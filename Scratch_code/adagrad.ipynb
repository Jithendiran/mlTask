{
 "cells": [
  {
   "cell_type": "markdown",
   "metadata": {},
   "source": [
    "# Adagrad\n",
    "This varient of gradient is used to modify learning rate\n",
    "\n",
    "initial_learning_rate / sqrt(pre_learning_rate + square(gradient of weight))"
   ]
  },
  {
   "cell_type": "code",
   "execution_count": 1,
   "metadata": {},
   "outputs": [],
   "source": [
    "import math"
   ]
  },
  {
   "cell_type": "code",
   "execution_count": 17,
   "metadata": {},
   "outputs": [],
   "source": [
    "const_lr = 0.01\n",
    "lr = 0\n",
    "def fun(gradient):\n",
    "    global lr\n",
    "\n",
    "    lr = const_lr / math.sqrt((lr + (gradient * gradient)) + 0.001)\n",
    "    print(f\"Learning Rate {lr}, Weight {gradient}\")\n"
   ]
  },
  {
   "cell_type": "code",
   "execution_count": 18,
   "metadata": {},
   "outputs": [
    {
     "name": "stdout",
     "output_type": "stream",
     "text": [
      "Learning Rate 0.31622776601683794, Weight 0\n",
      "Learning Rate 0.00871303706786619, Weight 1\n",
      "Learning Rate 0.004993940385338747, Weight 2\n",
      "Learning Rate 0.0033322238984995283, Weight 3\n",
      "Learning Rate 0.0024996616137234937, Weight 4\n",
      "Learning Rate 0.0019998600282308946, Weight 5\n",
      "Learning Rate 0.0016665972298018812, Weight 6\n",
      "Learning Rate 0.0014285325584781799, Weight 7\n",
      "Learning Rate 0.0012499762845366586, Weight 8\n",
      "Learning Rate 0.001111095679496491, Weight 9\n"
     ]
    }
   ],
   "source": [
    "for i in range(10):\n",
    "    fun(i)"
   ]
  },
  {
   "cell_type": "code",
   "execution_count": 19,
   "metadata": {},
   "outputs": [
    {
     "name": "stdout",
     "output_type": "stream",
     "text": [
      "Learning Rate 0.0009999894446887268, Weight 10\n",
      "Learning Rate 0.0011110973940164006, Weight 9\n",
      "Learning Rate 0.0012499793843245301, Weight 8\n",
      "Learning Rate 0.0014285386311676173, Weight 7\n",
      "Learning Rate 0.0016666104533387212, Weight 6\n",
      "Learning Rate 0.001999893344114082, Weight 5\n",
      "Learning Rate 0.002499765666283984, Weight 4\n",
      "Learning Rate 0.003332685417536984, Weight 3\n",
      "Learning Rate 0.004997294269493072, Weight 2\n",
      "Learning Rate 0.009970147736353262, Weight 1\n"
     ]
    }
   ],
   "source": [
    "for i in range(10):\n",
    "    fun(10-i)"
   ]
  },
  {
   "cell_type": "code",
   "execution_count": 20,
   "metadata": {},
   "outputs": [
    {
     "name": "stdout",
     "output_type": "stream",
     "text": [
      "Learning Rate 0.0006666504151902141, Weight 15\n",
      "Learning Rate 0.0006666641975686576, Weight 15\n",
      "Learning Rate 0.0006666641975482393, Weight 15\n",
      "Learning Rate 0.0006666641975482395, Weight 15\n",
      "Learning Rate 0.0006666641975482395, Weight 15\n",
      "Learning Rate 0.001999933336765236, Weight 5\n",
      "Learning Rate 0.0016665972281051363, Weight 6\n",
      "Learning Rate 0.0014285325584782046, Weight 7\n",
      "Learning Rate 0.0012499762845366586, Weight 8\n",
      "Learning Rate 0.001111095679496491, Weight 9\n",
      "Learning Rate 0.001999915561520514, Weight 5\n",
      "Learning Rate 0.002499765664548737, Weight 4\n",
      "Learning Rate 0.0033326854175373052, Weight 3\n",
      "Learning Rate 0.004997294269493072, Weight 2\n",
      "Learning Rate 0.009970147736353262, Weight 1\n"
     ]
    }
   ],
   "source": [
    "for i in range(15):\n",
    "    # 1st five increase\n",
    "    # medium not change\n",
    "    # last five decrease\n",
    "    if i < 5:\n",
    "        fun(i+(15 - i))\n",
    "    elif i > 9:\n",
    "        fun(15 - i)\n",
    "    else:\n",
    "        fun(i)"
   ]
  },
  {
   "cell_type": "markdown",
   "metadata": {},
   "source": [
    "### from this what clearly visible is if weight increase learning rate decrease"
   ]
  },
  {
   "cell_type": "code",
   "execution_count": null,
   "metadata": {},
   "outputs": [],
   "source": []
  }
 ],
 "metadata": {
  "kernelspec": {
   "display_name": "Python 3",
   "language": "python",
   "name": "python3"
  },
  "language_info": {
   "codemirror_mode": {
    "name": "ipython",
    "version": 3
   },
   "file_extension": ".py",
   "mimetype": "text/x-python",
   "name": "python",
   "nbconvert_exporter": "python",
   "pygments_lexer": "ipython3",
   "version": "3.11.2"
  },
  "orig_nbformat": 4
 },
 "nbformat": 4,
 "nbformat_minor": 2
}
