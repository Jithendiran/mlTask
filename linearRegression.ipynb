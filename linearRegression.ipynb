{
 "cells": [
  {
   "cell_type": "code",
   "execution_count": 1,
   "metadata": {},
   "outputs": [],
   "source": [
    "import math\n",
    "import numpy as np\n",
    "import matplotlib.pyplot as plt"
   ]
  },
  {
   "cell_type": "markdown",
   "metadata": {},
   "source": [
    "## Linear Regression  \n",
    "w is slope  \n",
    "\n",
    "b is intercept  \n",
    "\n",
    "$ y\\_pred = wx + b$"
   ]
  },
  {
   "cell_type": "code",
   "execution_count": 2,
   "metadata": {},
   "outputs": [],
   "source": [
    "def linear(x, w, b):\n",
    "    return (w*np.array(x) +b)"
   ]
  },
  {
   "cell_type": "markdown",
   "metadata": {},
   "source": [
    "## Mean Square Error  \n",
    "$error = {(y\\_pred - y)^2}$  \n",
    "\n",
    "For more than 1 input  \n",
    "$error = \\frac{\\sum\\limits_{i=1}^{n}(y\\_pred-y)^2}{n}$"
   ]
  },
  {
   "cell_type": "code",
   "execution_count": 3,
   "metadata": {},
   "outputs": [],
   "source": [
    "def MSE(y, y_pred):\n",
    "    if len(y) == len(y_pred):\n",
    "        return (np.sum(y_pred - y) ** 2)/len(y)\n",
    "    else:\n",
    "        raise Exception(\"Incompactable length\")"
   ]
  },
  {
   "cell_type": "markdown",
   "metadata": {},
   "source": [
    "## Gradient  \n",
    "[refer](https://towardsdatascience.com/understanding-the-mathematics-behind-gradient-descent-dde5dc9be06e#:~:text=Gradient%20Descent%20Algorithm%20helps%20us,the%20graph%20at%20the%20point.)  \n",
    "\n",
    "x is independent vaiable y is dependent variable  \n",
    "\n",
    "when we adjust the w and b values we can modify y_pred value  \n",
    "\n",
    "J is cost function or loss function  \n",
    "\n",
    "$$\n",
    "\\begin{aligned}\n",
    "&ypred = wx+b\\\\\\\n",
    "\\\\\\\n",
    "&err = (ypred - y)\\\\\\\n",
    "\\\\\\\n",
    "&J_{err} = \\frac{err^2}{n}\\\\\\\n",
    "\\\\\\\n",
    "&J_{err} = \\frac{1}{n} err^2 \\\\\\\n",
    "\\\\\\ Partial\\ Derivative \\\\\\\n",
    "&J_{err} = 2*err \\  J_{err}err\\\\\\\n",
    "\\\\\\ Take\\ derivation\\ based\\ on\\ w,b \n",
    "\\\\\\\n",
    "&\\frac{\\delta J}{\\delta w} = wx+b\\\\\\\n",
    "\\\\\\\n",
    "&\\frac{\\delta J}{\\delta w} = x\\\\\\\n",
    "\\\\\\\n",
    "&\\frac{\\delta J}{\\delta b} = wx+b\\\\\\\n",
    "\\\\\\\n",
    "&\\frac{\\delta J}{\\delta b} = 1\\\\\\\n",
    "\\\\\\\n",
    "&w = w - (2 * err * x/n) * learning\\_rate\\\\\\\n",
    "&b = b - (2 * err * 1/n) * learning\\_rate\\\\\\\n",
    "\n",
    "\\end{aligned}\n",
    "$$\n",
    "```This 2 in this equation isn’t that significant since it just says that we have a learning rate twice as big or half as big. So let’s get rid of it too```  \n",
    "$$\n",
    "w = w - \\frac{err * x}{n} * learning\\_rate\\\\\\\n",
    "\\\\\\\n",
    "b = b - \\frac{err * 1}{n} * learning\\_rate\n",
    "$$"
   ]
  },
  {
   "cell_type": "markdown",
   "metadata": {},
   "source": [
    "### update  \n",
    "$w\\ = w\\ -\\ \\frac{(\\sum\\limits_{i=0}^n(\\sum\\limits_{j=0}^m{x*2}) * error)}{n} * learning\\_rate$"
   ]
  },
  {
   "cell_type": "code",
   "execution_count": 25,
   "metadata": {},
   "outputs": [],
   "source": [
    "def gradient(w, b, x, y, y_pred, lr = 0.01):\n",
    "    # old - gradient * learningrate\n",
    "    error = y_pred - y\n",
    "    # method 1\n",
    "    # w = w - (2 * error * x ).mean() * lr # multiply by 2 i not more impact\n",
    "    # b = b - (2 * error * 1).mean() * lr # multiply by 2 i not more impact\n",
    "    # method 2 this more powerful than method 1 and multply by 2 is also powerful\n",
    "    w = w - (np.sum(x * 2) * error).mean() * lr\n",
    "    b = b - (error * 2).mean() * lr\n",
    "    \n",
    "\n",
    "    return w,b"
   ]
  },
  {
   "cell_type": "markdown",
   "metadata": {},
   "source": [
    "## Accuracy is calculated by R<sup>2</sup>  \n",
    "\n",
    "$$R^2 = \\frac{\\sum\\limits_{i=0}^n y\\_pred}{\\sum\\limits_{i=0}^n y}$$"
   ]
  },
  {
   "cell_type": "code",
   "execution_count": 5,
   "metadata": {},
   "outputs": [],
   "source": [
    "def accuracy(y, y_pred):\n",
    "    return np.sum(y_pred) / np.sum(y)"
   ]
  },
  {
   "cell_type": "code",
   "execution_count": 33,
   "metadata": {},
   "outputs": [],
   "source": [
    "def train(x, y, epoch=20, traditional=True):\n",
    "    if traditional :\n",
    "        x_mean = x.mean()\n",
    "        y_mean = y.mean()\n",
    "        w = np.sum((x - x_mean)*(y - y_mean)) / np.sum((x - x_mean) ** 2 )\n",
    "        b = y_mean -(w * x_mean )\n",
    "        del x_mean\n",
    "        del y_mean\n",
    "    else:\n",
    "        w = np.random.rand(1)\n",
    "        b = np.random.rand(1)\n",
    "\n",
    "        for i in range(epoch):\n",
    "            # forward\n",
    "            y_pred = linear(x, w, b)\n",
    "            # backward\n",
    "            w,b = gradient(w,b,x,y,y_pred)\n",
    "            print(f'Epoch : {i+1} Loss : {MSE(y_pred, y) : .2f} accuracy : {accuracy(y,y_pred) : .2f}')\n",
    "    return w,b\n"
   ]
  },
  {
   "cell_type": "code",
   "execution_count": 34,
   "metadata": {},
   "outputs": [
    {
     "name": "stdout",
     "output_type": "stream",
     "text": [
      "Epoch : 1 Loss :  119.67 accuracy :  0.18\n",
      "Epoch : 2 Loss :  0.77 accuracy :  0.93\n",
      "Epoch : 3 Loss :  0.00 accuracy :  0.99\n",
      "Epoch : 4 Loss :  0.00 accuracy :  1.00\n",
      "Epoch : 5 Loss :  0.00 accuracy :  1.00\n",
      "Epoch : 6 Loss :  0.00 accuracy :  1.00\n",
      "Epoch : 7 Loss :  0.00 accuracy :  1.00\n",
      "Epoch : 8 Loss :  0.00 accuracy :  1.00\n",
      "Epoch : 9 Loss :  0.00 accuracy :  1.00\n",
      "Epoch : 10 Loss :  0.00 accuracy :  1.00\n",
      "Epoch : 11 Loss :  0.00 accuracy :  1.00\n",
      "Epoch : 12 Loss :  0.00 accuracy :  1.00\n",
      "Epoch : 13 Loss :  0.00 accuracy :  1.00\n",
      "Epoch : 14 Loss :  0.00 accuracy :  1.00\n",
      "Epoch : 15 Loss :  0.00 accuracy :  1.00\n",
      "Epoch : 16 Loss :  0.00 accuracy :  1.00\n",
      "Epoch : 17 Loss :  0.00 accuracy :  1.00\n",
      "Epoch : 18 Loss :  0.00 accuracy :  1.00\n",
      "Epoch : 19 Loss :  0.00 accuracy :  1.00\n",
      "Epoch : 20 Loss :  0.00 accuracy :  1.00\n",
      "[1.78345935] [0.64962195]\n"
     ]
    }
   ],
   "source": [
    "x = np.array([1,2,3,4,5]) \n",
    "y = np.array([2,4,6,8,10])\n",
    "w,b = train(x,y,20, False)\n",
    "print(w,b) # correct is w = 2, b = 0 for input x = [1,2,3] y=[2,4,6]"
   ]
  },
  {
   "cell_type": "code",
   "execution_count": 35,
   "metadata": {},
   "outputs": [],
   "source": [
    "def plot(x_plot):\n",
    "    y_plot = linear(x_plot, math.floor(w), math.floor(b))\n",
    "    plt.plot(y_plot)\n",
    "    plt.scatter(x, y)"
   ]
  },
  {
   "cell_type": "code",
   "execution_count": 41,
   "metadata": {},
   "outputs": [
    {
     "data": {
      "image/png": "[encoded data removed]",
      "text/plain": [
       "<Figure size 432x288 with 1 Axes>"
      ]
     },
     "metadata": {
      "needs_background": "light"
     },
     "output_type": "display_data"
    }
   ],
   "source": [
    "plot(range(0,10,2))"
   ]
  }
 ],
 "metadata": {
  "kernelspec": {
   "display_name": "Python 3.9.12 ('pytorch')",
   "language": "python",
   "name": "python3"
  },
  "language_info": {
   "codemirror_mode": {
    "name": "ipython",
    "version": 3
   },
   "file_extension": ".py",
   "mimetype": "text/x-python",
   "name": "python",
   "nbconvert_exporter": "python",
   "pygments_lexer": "ipython3",
   "version": "3.9.12"
  },
  "orig_nbformat": 4,
  "vscode": {
   "interpreter": {
    "hash": "c04ae27a7896ab6c6780e7f81bb8d7de4310cd0e5be68f404746c2cdfae81824"
   }
  }
 },
 "nbformat": 4,
 "nbformat_minor": 2
}
