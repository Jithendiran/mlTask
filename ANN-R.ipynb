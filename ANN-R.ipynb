{
 "cells": [
  {
   "cell_type": "code",
   "execution_count": 1,
   "metadata": {},
   "outputs": [],
   "source": [
    "import numpy as np\n",
    "import pandas as pd"
   ]
  },
  {
   "cell_type": "code",
   "execution_count": 2,
   "metadata": {},
   "outputs": [
    {
     "name": "stdout",
     "output_type": "stream",
     "text": [
      "   number_courses  time_study   Marks\n",
      "0               3       4.508  19.202\n",
      "1               4       0.096   7.734\n",
      "2               4       3.133  13.811\n",
      "3               6       7.909  53.018\n",
      "4               8       7.811  55.299\n"
     ]
    }
   ],
   "source": [
    "data = pd.read_csv('data/Student_Marks.csv')\n",
    "print(data.head())\n",
    "x = data.iloc[:, :2].to_numpy().T\n",
    "y = (data.iloc[:,2].to_numpy())\n",
    "y = y.reshape(1,len(y))"
   ]
  },
  {
   "cell_type": "code",
   "execution_count": 3,
   "metadata": {},
   "outputs": [
    {
     "data": {
      "text/plain": [
       "(array([[3.   , 4.   , 4.   , 6.   , 8.   , 6.   , 3.   , 5.   , 4.   ,\n",
       "         3.   , 3.   , 7.   , 7.   , 3.   , 3.   , 4.   , 5.   , 8.   ,\n",
       "         6.   , 8.   , 4.   , 6.   , 5.   , 7.   , 4.   , 3.   , 7.   ,\n",
       "         8.   , 5.   , 4.   , 8.   , 3.   , 8.   , 6.   , 3.   , 3.   ,\n",
       "         4.   , 6.   , 7.   , 6.   , 4.   , 6.   , 6.   , 5.   , 4.   ,\n",
       "         3.   , 4.   , 4.   , 3.   , 5.   , 6.   , 6.   , 4.   , 7.   ,\n",
       "         8.   , 7.   , 8.   , 7.   , 3.   , 8.   , 6.   , 4.   , 6.   ,\n",
       "         3.   , 7.   , 6.   , 4.   , 3.   , 4.   , 6.   , 4.   , 5.   ,\n",
       "         3.   , 3.   , 4.   , 3.   , 5.   , 8.   , 7.   , 3.   , 7.   ,\n",
       "         8.   , 4.   , 5.   , 8.   , 8.   , 7.   , 3.   , 5.   , 7.   ,\n",
       "         7.   , 8.   , 4.   , 8.   , 8.   , 6.   , 3.   , 4.   , 7.   ,\n",
       "         3.   ],\n",
       "        [4.508, 0.096, 3.133, 7.909, 7.811, 3.211, 6.063, 3.413, 4.41 ,\n",
       "         6.173, 7.353, 0.423, 4.218, 4.274, 2.908, 4.26 , 5.719, 6.08 ,\n",
       "         7.711, 3.977, 4.733, 6.126, 2.051, 4.875, 3.635, 1.407, 0.508,\n",
       "         4.378, 0.156, 1.299, 3.864, 1.923, 0.932, 6.594, 4.083, 7.543,\n",
       "         2.966, 7.283, 6.533, 7.775, 0.14 , 2.754, 3.591, 1.557, 1.954,\n",
       "         2.061, 3.797, 4.779, 5.635, 3.913, 6.703, 4.13 , 0.771, 6.049,\n",
       "         7.591, 2.913, 7.641, 7.649, 6.198, 7.468, 0.376, 2.438, 3.606,\n",
       "         4.869, 0.13 , 2.142, 5.473, 0.55 , 1.395, 3.948, 3.736, 2.518,\n",
       "         4.633, 1.629, 6.954, 0.803, 6.379, 5.985, 7.451, 0.805, 7.957,\n",
       "         2.262, 7.41 , 3.197, 1.982, 6.201, 4.067, 1.033, 1.803, 6.376,\n",
       "         4.182, 2.73 , 5.027, 6.471, 3.919, 3.561, 0.301, 7.163, 0.309,\n",
       "         6.335]]),\n",
       " array([[19.202,  7.734, 13.811, 53.018, 55.299, 17.822, 29.889, 17.264,\n",
       "         20.348, 30.862, 42.036, 12.132, 24.318, 17.672, 11.397, 19.466,\n",
       "         30.548, 38.49 , 50.986, 25.133, 22.073, 35.939, 12.209, 28.043,\n",
       "         16.517,  6.623, 12.647, 26.532,  9.333,  8.837, 24.172,  8.1  ,\n",
       "         15.038, 39.965, 17.171, 43.978, 13.119, 46.453, 41.358, 51.142,\n",
       "          7.336, 15.725, 19.771, 10.429,  9.742,  8.924, 16.703, 22.701,\n",
       "         26.882, 19.106, 40.602, 22.184,  7.892, 36.653, 53.158, 18.238,\n",
       "         53.359, 51.583, 31.236, 51.343, 10.522, 10.844, 19.59 , 21.379,\n",
       "         12.591, 13.562, 27.569,  6.185,  8.92 , 21.4  , 16.606, 13.416,\n",
       "         20.398,  7.014, 39.952,  6.217, 36.746, 38.278, 49.544,  6.349,\n",
       "         54.321, 17.705, 44.099, 16.106, 16.461, 39.957, 23.149,  6.053,\n",
       "         11.253, 40.024, 24.394, 19.564, 23.916, 42.426, 24.451, 19.128,\n",
       "          5.609, 41.444, 12.027, 32.357]]))"
      ]
     },
     "execution_count": 3,
     "metadata": {},
     "output_type": "execute_result"
    }
   ],
   "source": [
    "x, y\n",
    "\n",
    "# x = np.array([[1,0],[1,1],[0,1],[0,0]])\n",
    "# y = np.array([[1],[0],[0],[1]])"
   ]
  },
  {
   "cell_type": "code",
   "execution_count": 4,
   "metadata": {},
   "outputs": [],
   "source": [
    "def getRandomWeight(*r):\n",
    "    # return np.random.randn(*r)\n",
    "    return np.zeros(r) + 0.1"
   ]
  },
  {
   "cell_type": "code",
   "execution_count": 5,
   "metadata": {},
   "outputs": [],
   "source": [
    "def forward(x, w, b):\n",
    "    '''\n",
    "    x -> each row is record\n",
    "    w -> each column is each node's weight\n",
    "    '''\n",
    "    return np.dot(w, x) + b"
   ]
  },
  {
   "cell_type": "code",
   "execution_count": 6,
   "metadata": {},
   "outputs": [],
   "source": [
    "def error(y, y_pred, isOpLayer=False):\n",
    "    if isOpLayer:\n",
    "        return y - y_pred\n",
    "    else :\n",
    "        return y.T.dot(y_pred)"
   ]
  },
  {
   "cell_type": "code",
   "execution_count": 7,
   "metadata": {},
   "outputs": [],
   "source": [
    "def gradient(w,b, x,err, lr=0.01):\n",
    "    w = w - (1/len(x[0]) * (err.dot(x.T))) * lr\n",
    "    b = b - (lr * np.sum(err))\n",
    "    return w,b\n",
    "    "
   ]
  },
  {
   "cell_type": "code",
   "execution_count": 15,
   "metadata": {},
   "outputs": [
    {
     "name": "stdout",
     "output_type": "stream",
     "text": [
      "(3, 2) (3, 1)\n",
      "(1, 3) (1,)\n"
     ]
    }
   ],
   "source": [
    "# ip -> 2 \n",
    "# hidden -> 3\n",
    "# op -> 1\n",
    "# layer -> 2 x 3 x 1\n",
    "\n",
    "ipw = getRandomWeight(3,2)\n",
    "ipb = getRandomWeight(3,1)\n",
    "\n",
    "hw = getRandomWeight(1,3)\n",
    "hb = getRandomWeight(1)\n",
    "print(ipw.shape, ipb.shape)\n",
    "print(hw.shape, hb.shape)"
   ]
  },
  {
   "cell_type": "code",
   "execution_count": 16,
   "metadata": {},
   "outputs": [
    {
     "name": "stdout",
     "output_type": "stream",
     "text": [
      "Epoch : 1, Loss : 24.006675800000004\n"
     ]
    }
   ],
   "source": [
    "lr = 0.01\n",
    "for i in range(10):\n",
    "    l1_op = forward(x,ipw, ipb)\n",
    "    y_pred = forward(l1_op, hw, hb)\n",
    "\n",
    "    # Error Calculate\n",
    "    oper = error(y,y_pred,isOpLayer=True)\n",
    "    hw, hb = gradient(hw, hb, l1_op,oper)\n",
    "\n",
    "    # update  weight\n",
    "    hierr =  error(hw,oper)\n",
    "    ipw, ipb = gradient(ipw, ipb, x, hierr)\n",
    "        \n",
    "    print(f'Epoch : {i + 1}, Loss : {oper.mean()}')"
   ]
  }
 ],
 "metadata": {
  "kernelspec": {
   "display_name": "Python 3",
   "language": "python",
   "name": "python3"
  },
  "language_info": {
   "codemirror_mode": {
    "name": "ipython",
    "version": 3
   },
   "file_extension": ".py",
   "mimetype": "text/x-python",
   "name": "python",
   "nbconvert_exporter": "python",
   "pygments_lexer": "ipython3",
   "version": "3.10.9"
  },
  "orig_nbformat": 4,
  "vscode": {
   "interpreter": {
    "hash": "97cc609b13305c559618ec78a438abc56230b9381f827f22d070313b9a1f3777"
   }
  }
 },
 "nbformat": 4,
 "nbformat_minor": 2
}
