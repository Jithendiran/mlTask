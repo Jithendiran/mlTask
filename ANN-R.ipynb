{
 "cells": [
  {
   "cell_type": "code",
   "execution_count": 1,
   "metadata": {},
   "outputs": [],
   "source": [
    "import numpy as np\n",
    "import pandas as pd\n",
    "import matplotlib.pyplot as plt"
   ]
  },
  {
   "cell_type": "code",
   "execution_count": 2,
   "metadata": {},
   "outputs": [
    {
     "name": "stdout",
     "output_type": "stream",
     "text": [
      "   number_courses  time_study   Marks\n",
      "0               3       4.508  19.202\n",
      "1               4       0.096   7.734\n",
      "2               4       3.133  13.811\n",
      "3               6       7.909  53.018\n",
      "4               8       7.811  55.299\n"
     ]
    }
   ],
   "source": [
    "data = pd.read_csv('data/Student_Marks.csv')\n",
    "print(data.head())\n",
    "x = data.iloc[:, :2].to_numpy()\n",
    "y = (data.iloc[:,2].to_numpy())\n",
    "y = y.reshape(len(y), 1)"
   ]
  },
  {
   "cell_type": "code",
   "execution_count": 3,
   "metadata": {},
   "outputs": [],
   "source": [
    "x, y\n",
    "\n",
    "x = np.array([[1,0],[1,1],[0,1],[0,0]])\n",
    "y = np.array([[1],[0],[0],[1]])"
   ]
  },
  {
   "cell_type": "code",
   "execution_count": 4,
   "metadata": {},
   "outputs": [],
   "source": [
    "def getRandomWeight(*r):\n",
    "    # return np.random.randn(*r)\n",
    "    return np.zeros(r) + 0.1"
   ]
  },
  {
   "cell_type": "code",
   "execution_count": 5,
   "metadata": {},
   "outputs": [],
   "source": [
    "def forward(x, w, b):\n",
    "    '''\n",
    "    x -> each row is record\n",
    "    w -> each column is each node's weight\n",
    "    '''\n",
    "    return np.dot(x, w) + b"
   ]
  },
  {
   "cell_type": "code",
   "execution_count": 6,
   "metadata": {},
   "outputs": [
    {
     "name": "stdout",
     "output_type": "stream",
     "text": [
      "[[ 6  9 15]\n",
      " [10 15 25]\n",
      " [17 26 44]]\n",
      "[[ 70]\n",
      " [116]\n",
      " [202]]\n"
     ]
    }
   ],
   "source": [
    "# eg\n",
    "x1 = np.array([\n",
    "    [1,2], # 1st record\n",
    "    [2,3], # 2nd record\n",
    "    [4,5]  # 3rd record\n",
    "])\n",
    "\n",
    "w1 = np.array([\n",
    "    [1,2], # 1st node weight\n",
    "    [2,3], # 2nd node weight \n",
    "    [4,5]  # 3rd node weight\n",
    "])\n",
    "\n",
    "b1 = np.array([\n",
    "    [1],\n",
    "    [2],\n",
    "    [3]\n",
    "])\n",
    "\n",
    "l1 = forward(x1, w1.T, b1)\n",
    "print(l1)\n",
    "\n",
    "w2 = np.array([\n",
    "    [1,2,3]\n",
    "])\n",
    "b2 = np.array([1])\n",
    "print(forward(l1, w2.T, b2))"
   ]
  },
  {
   "cell_type": "code",
   "execution_count": 7,
   "metadata": {},
   "outputs": [],
   "source": [
    "def error(y, y_pred):\n",
    "    return y - y_pred"
   ]
  },
  {
   "cell_type": "code",
   "execution_count": null,
   "metadata": {},
   "outputs": [],
   "source": [
    "def gradient(w,b, x,err, lr=0.01):\n",
    "    w = w - (x * err* lr)\n",
    "    b = b - (lr * err)\n",
    "    return w,b\n",
    "    "
   ]
  },
  {
   "cell_type": "code",
   "execution_count": 87,
   "metadata": {},
   "outputs": [
    {
     "name": "stdout",
     "output_type": "stream",
     "text": [
      "(3, 2) (3, 1)\n",
      "(1, 3) (1,)\n"
     ]
    }
   ],
   "source": [
    "# ip -> 2 \n",
    "# hidden -> 3\n",
    "# op -> 1\n",
    "# layer -> 2 x 3 x 1\n",
    "\n",
    "ipw = getRandomWeight(3,2)\n",
    "ipb = getRandomWeight(3,1)\n",
    "\n",
    "hw = getRandomWeight(1,3)\n",
    "hb = getRandomWeight(1)\n",
    "print(ipw.shape, ipb.shape)\n",
    "print(hw.shape, hb.shape)"
   ]
  },
  {
   "cell_type": "code",
   "execution_count": 88,
   "metadata": {},
   "outputs": [
    {
     "name": "stdout",
     "output_type": "stream",
     "text": [
      "Epoch : 1, Loss : [[0.87548923]]\n",
      "Epoch : 2, Loss : [[0.89075996]]\n",
      "Epoch : 3, Loss : [[0.90670615]]\n",
      "Epoch : 4, Loss : [[0.92335457]]\n",
      "Epoch : 5, Loss : [[0.94073286]]\n",
      "Epoch : 6, Loss : [[0.95886957]]\n",
      "Epoch : 7, Loss : [[0.97779423]]\n",
      "Epoch : 8, Loss : [[0.99753738]]\n",
      "Epoch : 9, Loss : [[1.01813063]]\n",
      "Epoch : 10, Loss : [[1.03960672]]\n"
     ]
    }
   ],
   "source": [
    "lr = 0.01\n",
    "for i in range(10):\n",
    "    for j in range(len(x)):\n",
    "        l1_op = forward(x[j],ipw.T, ipb.T)\n",
    "        y_pred = forward(l1_op, hw.T, hb.T)\n",
    "\n",
    "        # Error Calculate\n",
    "        oper = error(y[j],y_pred)\n",
    "        hierr =  (hw * oper)\n",
    "\n",
    "        # update  weight\n",
    "        hw, hb = gradient(hw, hb, l1_op,oper)\n",
    "        ipw, ipb = gradient(ipw, ipb, x[j], hierr.T)\n",
    "        \n",
    "    print(f'Epoch : {i + 1}, Loss : {oper}')"
   ]
  }
 ],
 "metadata": {
  "kernelspec": {
   "display_name": "Python 3",
   "language": "python",
   "name": "python3"
  },
  "language_info": {
   "codemirror_mode": {
    "name": "ipython",
    "version": 3
   },
   "file_extension": ".py",
   "mimetype": "text/x-python",
   "name": "python",
   "nbconvert_exporter": "python",
   "pygments_lexer": "ipython3",
   "version": "3.10.9 (main, Dec  7 2022, 13:47:07) [GCC 12.2.0]"
  },
  "orig_nbformat": 4,
  "vscode": {
   "interpreter": {
    "hash": "97cc609b13305c559618ec78a438abc56230b9381f827f22d070313b9a1f3777"
   }
  }
 },
 "nbformat": 4,
 "nbformat_minor": 2
}
