{
 "cells": [
  {
   "cell_type": "code",
   "execution_count": 5,
   "metadata": {},
   "outputs": [],
   "source": [
    "import numpy as np\n",
    "import pandas as pd\n",
    "import matplotlib.pyplot as plt"
   ]
  },
  {
   "cell_type": "code",
   "execution_count": 13,
   "metadata": {},
   "outputs": [
    {
     "name": "stdout",
     "output_type": "stream",
     "text": [
      "   number_courses  time_study   Marks\n",
      "0               3       4.508  19.202\n",
      "1               4       0.096   7.734\n",
      "2               4       3.133  13.811\n",
      "3               6       7.909  53.018\n",
      "4               8       7.811  55.299\n"
     ]
    }
   ],
   "source": [
    "data = pd.read_csv('data/Student_Marks.csv')\n",
    "print(data.head())\n",
    "x = data.iloc[:, :2]\n",
    "y = data.iloc[:,2]"
   ]
  },
  {
   "cell_type": "code",
   "execution_count": 14,
   "metadata": {},
   "outputs": [
    {
     "data": {
      "text/plain": [
       "(    number_courses  time_study\n",
       " 0                3       4.508\n",
       " 1                4       0.096\n",
       " 2                4       3.133\n",
       " 3                6       7.909\n",
       " 4                8       7.811\n",
       " ..             ...         ...\n",
       " 95               6       3.561\n",
       " 96               3       0.301\n",
       " 97               4       7.163\n",
       " 98               7       0.309\n",
       " 99               3       6.335\n",
       " \n",
       " [100 rows x 2 columns],\n",
       " 0     19.202\n",
       " 1      7.734\n",
       " 2     13.811\n",
       " 3     53.018\n",
       " 4     55.299\n",
       "        ...  \n",
       " 95    19.128\n",
       " 96     5.609\n",
       " 97    41.444\n",
       " 98    12.027\n",
       " 99    32.357\n",
       " Name: Marks, Length: 100, dtype: float64)"
      ]
     },
     "execution_count": 14,
     "metadata": {},
     "output_type": "execute_result"
    }
   ],
   "source": [
    "x, y"
   ]
  },
  {
   "cell_type": "code",
   "execution_count": 15,
   "metadata": {},
   "outputs": [],
   "source": [
    "def getRandomWeight(*r):\n",
    "    return np.random.randn(*r)\n",
    "    # return np.zeros(r) + 0.1"
   ]
  },
  {
   "cell_type": "code",
   "execution_count": 18,
   "metadata": {},
   "outputs": [
    {
     "name": "stdout",
     "output_type": "stream",
     "text": [
      "(3, 2) (3, 1)\n"
     ]
    }
   ],
   "source": [
    "# ip -> 2 \n",
    "# hidden -> 3\n",
    "# op -> 1\n",
    "# layer -> 2 x 3 x 1\n",
    "\n",
    "ipw = getRandomWeight(3,2)\n",
    "ipb = getRandomWeight(3,1)\n",
    "print(ipw.shape, ipb.shape)"
   ]
  },
  {
   "cell_type": "code",
   "execution_count": null,
   "metadata": {},
   "outputs": [],
   "source": [
    "def forward(x, w, b):\n",
    "    pass"
   ]
  }
 ],
 "metadata": {
  "kernelspec": {
   "display_name": "Python 3",
   "language": "python",
   "name": "python3"
  },
  "language_info": {
   "codemirror_mode": {
    "name": "ipython",
    "version": 3
   },
   "file_extension": ".py",
   "mimetype": "text/x-python",
   "name": "python",
   "nbconvert_exporter": "python",
   "pygments_lexer": "ipython3",
   "version": "3.10.9"
  },
  "orig_nbformat": 4,
  "vscode": {
   "interpreter": {
    "hash": "916dbcbb3f70747c44a77c7bcd40155683ae19c65e1c03b4aa3499c5328201f1"
   }
  }
 },
 "nbformat": 4,
 "nbformat_minor": 2
}
