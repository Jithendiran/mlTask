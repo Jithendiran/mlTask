{
 "cells": [
  {
   "cell_type": "code",
   "execution_count": 1,
   "metadata": {},
   "outputs": [],
   "source": [
    "import numpy as np\n",
    "import pandas as pd"
   ]
  },
  {
   "cell_type": "code",
   "execution_count": 2,
   "metadata": {},
   "outputs": [
    {
     "name": "stdout",
     "output_type": "stream",
     "text": [
      "   number_courses  time_study   Marks\n",
      "0               3       4.508  19.202\n",
      "1               4       0.096   7.734\n",
      "2               4       3.133  13.811\n",
      "3               6       7.909  53.018\n",
      "4               8       7.811  55.299\n"
     ]
    }
   ],
   "source": [
    "data = pd.read_csv('data/Student_Marks.csv')\n",
    "print(data.head())\n",
    "x = data.iloc[:, :2].to_numpy().T\n",
    "y = (data.iloc[:,2].to_numpy())\n",
    "y = y.reshape(1,len(y))"
   ]
  },
  {
   "cell_type": "code",
   "execution_count": 3,
   "metadata": {},
   "outputs": [],
   "source": [
    "x, y\n",
    "\n",
    "x = np.array([\n",
    "    [1,1,0,0],\n",
    "    [0,1,1,0]\n",
    "    ])\n",
    "y = np.array([[1,0,1,0]])"
   ]
  },
  {
   "cell_type": "code",
   "execution_count": 4,
   "metadata": {},
   "outputs": [],
   "source": [
    "def getRandomWeight(*r):\n",
    "    # return np.random.randn(*r)\n",
    "    return np.zeros(r) + 0.1"
   ]
  },
  {
   "cell_type": "code",
   "execution_count": 5,
   "metadata": {},
   "outputs": [],
   "source": [
    "def forward(x, w, b):\n",
    "    '''\n",
    "    x -> each row is record\n",
    "    w -> each column is each node's weight\n",
    "    '''\n",
    "    return np.dot(w, x) + b"
   ]
  },
  {
   "cell_type": "code",
   "execution_count": 6,
   "metadata": {},
   "outputs": [],
   "source": [
    "def error(y, y_pred, isOpLayer=False):\n",
    "    if isOpLayer:\n",
    "        return y - y_pred\n",
    "    else :\n",
    "        return y.T.dot(y_pred)"
   ]
  },
  {
   "cell_type": "code",
   "execution_count": 7,
   "metadata": {},
   "outputs": [],
   "source": [
    "def gradient(w,b, x,err, lr=0.01):\n",
    "    w = w - (1/len(x[0]) * (err.dot(x.T))) * lr\n",
    "    b = b - (lr * np.mean(err, axis=1).reshape(b.shape))\n",
    "    return w,b\n",
    "    "
   ]
  },
  {
   "cell_type": "code",
   "execution_count": 31,
   "metadata": {},
   "outputs": [
    {
     "name": "stdout",
     "output_type": "stream",
     "text": [
      "(3, 2) (3, 1)\n",
      "(1, 3) (1,)\n"
     ]
    }
   ],
   "source": [
    "# ip -> 2 \n",
    "# hidden -> 3\n",
    "# op -> 1\n",
    "# layer -> 2 x 3 x 1\n",
    "\n",
    "ipw = getRandomWeight(3,2)\n",
    "ipb = getRandomWeight(3,1)\n",
    "\n",
    "hw = getRandomWeight(1,3)\n",
    "hb = getRandomWeight(1)\n",
    "print(ipw.shape, ipb.shape)\n",
    "print(hw.shape, hb.shape)"
   ]
  },
  {
   "cell_type": "code",
   "execution_count": 32,
   "metadata": {},
   "outputs": [
    {
     "name": "stdout",
     "output_type": "stream",
     "text": [
      "Epoch : 1, Loss : 0.33999999999999997\n",
      "Epoch : 2, Loss : 0.34394775169154185\n",
      "Epoch : 3, Loss : 0.3479375150979147\n",
      "Epoch : 4, Loss : 0.35196967287439673\n",
      "Epoch : 5, Loss : 0.35604461080328376\n",
      "Epoch : 6, Loss : 0.3601627178454688\n",
      "Epoch : 7, Loss : 0.3643243861939667\n",
      "Epoch : 8, Loss : 0.36853001132944585\n",
      "Epoch : 9, Loss : 0.37277999207783197\n",
      "Epoch : 10, Loss : 0.37707473067004565\n"
     ]
    }
   ],
   "source": [
    "lr = 0.03\n",
    "for i in range(10):\n",
    "    l1_op = forward(x,ipw, ipb)\n",
    "    y_pred = forward(l1_op, hw, hb)\n",
    "\n",
    "    # L1\n",
    "    oper = error(y,y_pred,isOpLayer=True)\n",
    "    hw, hb = gradient(hw, hb, l1_op,oper)\n",
    "\n",
    "    # L2\n",
    "    hierr =  error(hw,oper)\n",
    "    ipw, ipb = gradient(ipw, ipb, x, hierr)\n",
    "        \n",
    "    print(f'Epoch : {i + 1}, Loss : {oper.mean()}')"
   ]
  },
  {
   "attachments": {},
   "cell_type": "markdown",
   "metadata": {},
   "source": [
    "Short node  \n",
    "\n",
    "x = no.of.feature (ip) X no.of.record (n)  \n",
    "w0 = no.of.node (m) X no.of.previousnode (len(x[0]))  \n",
    "w1 = no.of.node (k) X no.of.previousnode (len(w0[0]))  \n",
    "y = no.of.node(len(w1[0])) X no.of.rec(n)  "
   ]
  },
  {
   "cell_type": "markdown",
   "metadata": {},
   "source": []
  }
 ],
 "metadata": {
  "kernelspec": {
   "display_name": "Python 3",
   "language": "python",
   "name": "python3"
  },
  "language_info": {
   "codemirror_mode": {
    "name": "ipython",
    "version": 3
   },
   "file_extension": ".py",
   "mimetype": "text/x-python",
   "name": "python",
   "nbconvert_exporter": "python",
   "pygments_lexer": "ipython3",
   "version": "3.10.9 (main, Dec  7 2022, 13:47:07) [GCC 12.2.0]"
  },
  "orig_nbformat": 4,
  "vscode": {
   "interpreter": {
    "hash": "97cc609b13305c559618ec78a438abc56230b9381f827f22d070313b9a1f3777"
   }
  }
 },
 "nbformat": 4,
 "nbformat_minor": 2
}
