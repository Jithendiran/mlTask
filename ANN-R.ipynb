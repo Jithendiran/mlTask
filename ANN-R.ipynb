{
 "cells": [
  {
   "cell_type": "code",
   "execution_count": 1,
   "metadata": {},
   "outputs": [],
   "source": [
    "import numpy as np\n",
    "import pandas as pd\n",
    "import matplotlib.pyplot as plt"
   ]
  },
  {
   "cell_type": "code",
   "execution_count": 2,
   "metadata": {},
   "outputs": [
    {
     "name": "stdout",
     "output_type": "stream",
     "text": [
      "   number_courses  time_study   Marks\n",
      "0               3       4.508  19.202\n",
      "1               4       0.096   7.734\n",
      "2               4       3.133  13.811\n",
      "3               6       7.909  53.018\n",
      "4               8       7.811  55.299\n"
     ]
    }
   ],
   "source": [
    "data = pd.read_csv('data/Student_Marks.csv')\n",
    "print(data.head())\n",
    "x = data.iloc[:, :2].to_numpy()\n",
    "y = (data.iloc[:,2].to_numpy())\n",
    "y = y.reshape(len(y), 1)"
   ]
  },
  {
   "cell_type": "code",
   "execution_count": 3,
   "metadata": {},
   "outputs": [],
   "source": [
    "x, y\n",
    "\n",
    "x = np.array([[1,0],[1,1],[0,1],[0,0]])\n",
    "y = np.array([[1],[0],[0],[1]])"
   ]
  },
  {
   "cell_type": "code",
   "execution_count": 4,
   "metadata": {},
   "outputs": [],
   "source": [
    "def getRandomWeight(*r):\n",
    "    # return np.random.randn(*r)\n",
    "    return np.zeros(r) + 0.1"
   ]
  },
  {
   "cell_type": "code",
   "execution_count": 5,
   "metadata": {},
   "outputs": [],
   "source": [
    "def forward(x, w, b):\n",
    "    '''\n",
    "    x -> each row is record\n",
    "    w -> each column is each node's weight\n",
    "    '''\n",
    "    return np.dot(x, w) + b"
   ]
  },
  {
   "cell_type": "code",
   "execution_count": 6,
   "metadata": {},
   "outputs": [
    {
     "name": "stdout",
     "output_type": "stream",
     "text": [
      "[[ 6  9 15]\n",
      " [10 15 25]\n",
      " [17 26 44]]\n",
      "[[ 70]\n",
      " [116]\n",
      " [202]]\n"
     ]
    }
   ],
   "source": [
    "# eg\n",
    "x1 = np.array([\n",
    "    [1,2], # 1st record\n",
    "    [2,3], # 2nd record\n",
    "    [4,5]  # 3rd record\n",
    "])\n",
    "\n",
    "w1 = np.array([\n",
    "    [1,2], # 1st node weight\n",
    "    [2,3], # 2nd node weight \n",
    "    [4,5]  # 3rd node weight\n",
    "])\n",
    "\n",
    "b1 = np.array([\n",
    "    [1],\n",
    "    [2],\n",
    "    [3]\n",
    "])\n",
    "\n",
    "l1 = forward(x1, w1.T, b1)\n",
    "print(l1)\n",
    "\n",
    "w2 = np.array([\n",
    "    [1,2,3]\n",
    "])\n",
    "b2 = np.array([1])\n",
    "print(forward(l1, w2.T, b2))"
   ]
  },
  {
   "cell_type": "code",
   "execution_count": 7,
   "metadata": {},
   "outputs": [],
   "source": [
    "def error(y, y_pred):\n",
    "    return y - y_pred"
   ]
  },
  {
   "cell_type": "code",
   "execution_count": null,
   "metadata": {},
   "outputs": [],
   "source": [
    "def gradient(w,b, x,err, lr=0.01):\n",
    "    for i in range(len(x)):\n",
    "        if i%2 ==0 :\n",
    "            w = w - (x[i] * err[i] * lr)\n",
    "            b = b - (lr * err[i])\n",
    "    return w,b\n",
    "    "
   ]
  },
  {
   "cell_type": "code",
   "execution_count": null,
   "metadata": {},
   "outputs": [
    {
     "name": "stdout",
     "output_type": "stream",
     "text": [
      "(3, 2) (3, 1)\n",
      "(1, 3) (1,)\n"
     ]
    }
   ],
   "source": [
    "# ip -> 2 \n",
    "# hidden -> 3\n",
    "# op -> 1\n",
    "# layer -> 2 x 3 x 1\n",
    "\n",
    "ipw = getRandomWeight(3,2)\n",
    "ipb = getRandomWeight(3,1)\n",
    "\n",
    "hw = getRandomWeight(1,3)\n",
    "hb = getRandomWeight(1)\n",
    "print(ipw.shape, ipb.shape)\n",
    "print(hw.shape, hb.shape)"
   ]
  },
  {
   "cell_type": "code",
   "execution_count": 12,
   "metadata": {},
   "outputs": [
    {
     "name": "stdout",
     "output_type": "stream",
     "text": [
      "Level 1 op : [[0.2 0.2 0.2]\n",
      " [0.3 0.3 0.3]\n",
      " [0.2 0.2 0.2]\n",
      " [0.1 0.1 0.1]]\n",
      "Output : [[0.1445974 ]\n",
      " [0.17377226]\n",
      " [0.1445974 ]\n",
      " [0.11542254]]\n",
      "Epoch : 1, Loss : 0.3554025984\n"
     ]
    },
    {
     "ename": "KeyboardInterrupt",
     "evalue": "",
     "output_type": "error",
     "traceback": [
      "\u001b[0;31m---------------------------------------------------------------------------\u001b[0m",
      "\u001b[0;31mKeyboardInterrupt\u001b[0m                         Traceback (most recent call last)",
      "Cell \u001b[0;32mIn[12], line 11\u001b[0m\n\u001b[1;32m      9\u001b[0m hw, hb \u001b[39m=\u001b[39m gradient(hw, hb, l1_op,oper)\n\u001b[1;32m     10\u001b[0m \u001b[39m# update inner weight\u001b[39;00m\n\u001b[0;32m---> 11\u001b[0m hierr \u001b[39m=\u001b[39m  ipw \u001b[39m*\u001b[39m oper\n\u001b[1;32m     12\u001b[0m \u001b[39mprint\u001b[39m(\u001b[39mf\u001b[39m\u001b[39m'\u001b[39m\u001b[39mHidden Error : \u001b[39m\u001b[39m{\u001b[39;00mhierr\u001b[39m}\u001b[39;00m\u001b[39m'\u001b[39m)\n\u001b[1;32m     13\u001b[0m \u001b[39m# ipw, ipb = gradient(ipw, ipb, x, err)\u001b[39;00m\n",
      "Cell \u001b[0;32mIn[12], line 11\u001b[0m\n\u001b[1;32m      9\u001b[0m hw, hb \u001b[39m=\u001b[39m gradient(hw, hb, l1_op,oper)\n\u001b[1;32m     10\u001b[0m \u001b[39m# update inner weight\u001b[39;00m\n\u001b[0;32m---> 11\u001b[0m hierr \u001b[39m=\u001b[39m  ipw \u001b[39m*\u001b[39m oper\n\u001b[1;32m     12\u001b[0m \u001b[39mprint\u001b[39m(\u001b[39mf\u001b[39m\u001b[39m'\u001b[39m\u001b[39mHidden Error : \u001b[39m\u001b[39m{\u001b[39;00mhierr\u001b[39m}\u001b[39;00m\u001b[39m'\u001b[39m)\n\u001b[1;32m     13\u001b[0m \u001b[39m# ipw, ipb = gradient(ipw, ipb, x, err)\u001b[39;00m\n",
      "File \u001b[0;32m_pydevd_bundle/pydevd_cython.pyx:1600\u001b[0m, in \u001b[0;36m_pydevd_bundle.pydevd_cython.trace_dispatch\u001b[0;34m()\u001b[0m\n",
      "File \u001b[0;32m_pydevd_bundle/pydevd_cython.pyx:1457\u001b[0m, in \u001b[0;36m_pydevd_bundle.pydevd_cython.SafeCallWrapper.__call__\u001b[0;34m()\u001b[0m\n",
      "File \u001b[0;32m_pydevd_bundle/pydevd_cython.pyx:1834\u001b[0m, in \u001b[0;36m_pydevd_bundle.pydevd_cython.ThreadTracer.__call__\u001b[0;34m()\u001b[0m\n",
      "File \u001b[0;32m_pydevd_bundle/pydevd_cython.pyx:1395\u001b[0m, in \u001b[0;36m_pydevd_bundle.pydevd_cython.PyDBFrame.trace_dispatch\u001b[0;34m()\u001b[0m\n",
      "File \u001b[0;32m_pydevd_bundle/pydevd_cython.pyx:1344\u001b[0m, in \u001b[0;36m_pydevd_bundle.pydevd_cython.PyDBFrame.trace_dispatch\u001b[0;34m()\u001b[0m\n",
      "File \u001b[0;32m_pydevd_bundle/pydevd_cython.pyx:312\u001b[0m, in \u001b[0;36m_pydevd_bundle.pydevd_cython.PyDBFrame.do_wait_suspend\u001b[0;34m()\u001b[0m\n",
      "File \u001b[0;32m~/.local/lib/python3.10/site-packages/debugpy/_vendored/pydevd/pydevd.py:2070\u001b[0m, in \u001b[0;36mPyDB.do_wait_suspend\u001b[0;34m(self, thread, frame, event, arg, exception_type)\u001b[0m\n\u001b[1;32m   2067\u001b[0m             from_this_thread\u001b[39m.\u001b[39mappend(frame_custom_thread_id)\n\u001b[1;32m   2069\u001b[0m     \u001b[39mwith\u001b[39;00m \u001b[39mself\u001b[39m\u001b[39m.\u001b[39m_threads_suspended_single_notification\u001b[39m.\u001b[39mnotify_thread_suspended(thread_id, thread, stop_reason):\n\u001b[0;32m-> 2070\u001b[0m         keep_suspended \u001b[39m=\u001b[39m \u001b[39mself\u001b[39;49m\u001b[39m.\u001b[39;49m_do_wait_suspend(thread, frame, event, arg, suspend_type, from_this_thread, frames_tracker)\n\u001b[1;32m   2072\u001b[0m frames_list \u001b[39m=\u001b[39m \u001b[39mNone\u001b[39;00m\n\u001b[1;32m   2074\u001b[0m \u001b[39mif\u001b[39;00m keep_suspended:\n\u001b[1;32m   2075\u001b[0m     \u001b[39m# This means that we should pause again after a set next statement.\u001b[39;00m\n",
      "File \u001b[0;32m~/.local/lib/python3.10/site-packages/debugpy/_vendored/pydevd/pydevd.py:2106\u001b[0m, in \u001b[0;36mPyDB._do_wait_suspend\u001b[0;34m(self, thread, frame, event, arg, suspend_type, from_this_thread, frames_tracker)\u001b[0m\n\u001b[1;32m   2103\u001b[0m         \u001b[39mself\u001b[39m\u001b[39m.\u001b[39m_call_input_hook()\n\u001b[1;32m   2105\u001b[0m     \u001b[39mself\u001b[39m\u001b[39m.\u001b[39mprocess_internal_commands()\n\u001b[0;32m-> 2106\u001b[0m     time\u001b[39m.\u001b[39;49msleep(\u001b[39m0.01\u001b[39;49m)\n\u001b[1;32m   2108\u001b[0m \u001b[39mself\u001b[39m\u001b[39m.\u001b[39mcancel_async_evaluation(get_current_thread_id(thread), \u001b[39mstr\u001b[39m(\u001b[39mid\u001b[39m(frame)))\n\u001b[1;32m   2110\u001b[0m \u001b[39m# process any stepping instructions\u001b[39;00m\n",
      "\u001b[0;31mKeyboardInterrupt\u001b[0m: "
     ]
    }
   ],
   "source": [
    "for i in range(1):\n",
    "    l1_op = forward(x,ipw.T, ipb.T)\n",
    "    print(f'Level 1 op : {l1_op}')\n",
    "    y_pred = forward(l1_op, hw.T, hb.T)\n",
    "    print(f'Output : {y_pred}')\n",
    "    # update outer weight\n",
    "    oper = error(y,y_pred)\n",
    "    print(f'Epoch : {i + 1}, Loss : {oper.mean()}')\n",
    "    hw, hb = gradient(hw, hb, l1_op,oper)\n",
    "    # update inner weight\n",
    "    hierr =  ipw * oper\n",
    "    print(f'Hidden Error : {hierr}')\n",
    "    # ipw, ipb = gradient(ipw, ipb, x, err)"
   ]
  }
 ],
 "metadata": {
  "kernelspec": {
   "display_name": "Python 3",
   "language": "python",
   "name": "python3"
  },
  "language_info": {
   "codemirror_mode": {
    "name": "ipython",
    "version": 3
   },
   "file_extension": ".py",
   "mimetype": "text/x-python",
   "name": "python",
   "nbconvert_exporter": "python",
   "pygments_lexer": "ipython3",
   "version": "3.10.9"
  },
  "orig_nbformat": 4,
  "vscode": {
   "interpreter": {
    "hash": "97cc609b13305c559618ec78a438abc56230b9381f827f22d070313b9a1f3777"
   }
  }
 },
 "nbformat": 4,
 "nbformat_minor": 2
}
