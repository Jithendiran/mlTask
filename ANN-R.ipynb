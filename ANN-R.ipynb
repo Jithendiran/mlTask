{
 "cells": [
  {
   "cell_type": "code",
   "execution_count": 1,
   "metadata": {},
   "outputs": [],
   "source": [
    "import numpy as np\n",
    "import pandas as pd\n",
    "import matplotlib.pyplot as plt"
   ]
  },
  {
   "cell_type": "code",
   "execution_count": 2,
   "metadata": {},
   "outputs": [
    {
     "name": "stdout",
     "output_type": "stream",
     "text": [
      "   number_courses  time_study   Marks\n",
      "0               3       4.508  19.202\n",
      "1               4       0.096   7.734\n",
      "2               4       3.133  13.811\n",
      "3               6       7.909  53.018\n",
      "4               8       7.811  55.299\n"
     ]
    }
   ],
   "source": [
    "data = pd.read_csv('data/Student_Marks.csv')\n",
    "print(data.head())\n",
    "x = data.iloc[:, :2].to_numpy()\n",
    "y = (data.iloc[:,2].to_numpy())\n",
    "y = y.reshape(len(y), 1)"
   ]
  },
  {
   "cell_type": "code",
   "execution_count": 3,
   "metadata": {},
   "outputs": [
    {
     "data": {
      "text/plain": [
       "(array([[3.   , 4.508],\n",
       "        [4.   , 0.096],\n",
       "        [4.   , 3.133],\n",
       "        [6.   , 7.909],\n",
       "        [8.   , 7.811],\n",
       "        [6.   , 3.211],\n",
       "        [3.   , 6.063],\n",
       "        [5.   , 3.413],\n",
       "        [4.   , 4.41 ],\n",
       "        [3.   , 6.173],\n",
       "        [3.   , 7.353],\n",
       "        [7.   , 0.423],\n",
       "        [7.   , 4.218],\n",
       "        [3.   , 4.274],\n",
       "        [3.   , 2.908],\n",
       "        [4.   , 4.26 ],\n",
       "        [5.   , 5.719],\n",
       "        [8.   , 6.08 ],\n",
       "        [6.   , 7.711],\n",
       "        [8.   , 3.977],\n",
       "        [4.   , 4.733],\n",
       "        [6.   , 6.126],\n",
       "        [5.   , 2.051],\n",
       "        [7.   , 4.875],\n",
       "        [4.   , 3.635],\n",
       "        [3.   , 1.407],\n",
       "        [7.   , 0.508],\n",
       "        [8.   , 4.378],\n",
       "        [5.   , 0.156],\n",
       "        [4.   , 1.299],\n",
       "        [8.   , 3.864],\n",
       "        [3.   , 1.923],\n",
       "        [8.   , 0.932],\n",
       "        [6.   , 6.594],\n",
       "        [3.   , 4.083],\n",
       "        [3.   , 7.543],\n",
       "        [4.   , 2.966],\n",
       "        [6.   , 7.283],\n",
       "        [7.   , 6.533],\n",
       "        [6.   , 7.775],\n",
       "        [4.   , 0.14 ],\n",
       "        [6.   , 2.754],\n",
       "        [6.   , 3.591],\n",
       "        [5.   , 1.557],\n",
       "        [4.   , 1.954],\n",
       "        [3.   , 2.061],\n",
       "        [4.   , 3.797],\n",
       "        [4.   , 4.779],\n",
       "        [3.   , 5.635],\n",
       "        [5.   , 3.913],\n",
       "        [6.   , 6.703],\n",
       "        [6.   , 4.13 ],\n",
       "        [4.   , 0.771],\n",
       "        [7.   , 6.049],\n",
       "        [8.   , 7.591],\n",
       "        [7.   , 2.913],\n",
       "        [8.   , 7.641],\n",
       "        [7.   , 7.649],\n",
       "        [3.   , 6.198],\n",
       "        [8.   , 7.468],\n",
       "        [6.   , 0.376],\n",
       "        [4.   , 2.438],\n",
       "        [6.   , 3.606],\n",
       "        [3.   , 4.869],\n",
       "        [7.   , 0.13 ],\n",
       "        [6.   , 2.142],\n",
       "        [4.   , 5.473],\n",
       "        [3.   , 0.55 ],\n",
       "        [4.   , 1.395],\n",
       "        [6.   , 3.948],\n",
       "        [4.   , 3.736],\n",
       "        [5.   , 2.518],\n",
       "        [3.   , 4.633],\n",
       "        [3.   , 1.629],\n",
       "        [4.   , 6.954],\n",
       "        [3.   , 0.803],\n",
       "        [5.   , 6.379],\n",
       "        [8.   , 5.985],\n",
       "        [7.   , 7.451],\n",
       "        [3.   , 0.805],\n",
       "        [7.   , 7.957],\n",
       "        [8.   , 2.262],\n",
       "        [4.   , 7.41 ],\n",
       "        [5.   , 3.197],\n",
       "        [8.   , 1.982],\n",
       "        [8.   , 6.201],\n",
       "        [7.   , 4.067],\n",
       "        [3.   , 1.033],\n",
       "        [5.   , 1.803],\n",
       "        [7.   , 6.376],\n",
       "        [7.   , 4.182],\n",
       "        [8.   , 2.73 ],\n",
       "        [4.   , 5.027],\n",
       "        [8.   , 6.471],\n",
       "        [8.   , 3.919],\n",
       "        [6.   , 3.561],\n",
       "        [3.   , 0.301],\n",
       "        [4.   , 7.163],\n",
       "        [7.   , 0.309],\n",
       "        [3.   , 6.335]]),\n",
       " array([[19.202],\n",
       "        [ 7.734],\n",
       "        [13.811],\n",
       "        [53.018],\n",
       "        [55.299],\n",
       "        [17.822],\n",
       "        [29.889],\n",
       "        [17.264],\n",
       "        [20.348],\n",
       "        [30.862],\n",
       "        [42.036],\n",
       "        [12.132],\n",
       "        [24.318],\n",
       "        [17.672],\n",
       "        [11.397],\n",
       "        [19.466],\n",
       "        [30.548],\n",
       "        [38.49 ],\n",
       "        [50.986],\n",
       "        [25.133],\n",
       "        [22.073],\n",
       "        [35.939],\n",
       "        [12.209],\n",
       "        [28.043],\n",
       "        [16.517],\n",
       "        [ 6.623],\n",
       "        [12.647],\n",
       "        [26.532],\n",
       "        [ 9.333],\n",
       "        [ 8.837],\n",
       "        [24.172],\n",
       "        [ 8.1  ],\n",
       "        [15.038],\n",
       "        [39.965],\n",
       "        [17.171],\n",
       "        [43.978],\n",
       "        [13.119],\n",
       "        [46.453],\n",
       "        [41.358],\n",
       "        [51.142],\n",
       "        [ 7.336],\n",
       "        [15.725],\n",
       "        [19.771],\n",
       "        [10.429],\n",
       "        [ 9.742],\n",
       "        [ 8.924],\n",
       "        [16.703],\n",
       "        [22.701],\n",
       "        [26.882],\n",
       "        [19.106],\n",
       "        [40.602],\n",
       "        [22.184],\n",
       "        [ 7.892],\n",
       "        [36.653],\n",
       "        [53.158],\n",
       "        [18.238],\n",
       "        [53.359],\n",
       "        [51.583],\n",
       "        [31.236],\n",
       "        [51.343],\n",
       "        [10.522],\n",
       "        [10.844],\n",
       "        [19.59 ],\n",
       "        [21.379],\n",
       "        [12.591],\n",
       "        [13.562],\n",
       "        [27.569],\n",
       "        [ 6.185],\n",
       "        [ 8.92 ],\n",
       "        [21.4  ],\n",
       "        [16.606],\n",
       "        [13.416],\n",
       "        [20.398],\n",
       "        [ 7.014],\n",
       "        [39.952],\n",
       "        [ 6.217],\n",
       "        [36.746],\n",
       "        [38.278],\n",
       "        [49.544],\n",
       "        [ 6.349],\n",
       "        [54.321],\n",
       "        [17.705],\n",
       "        [44.099],\n",
       "        [16.106],\n",
       "        [16.461],\n",
       "        [39.957],\n",
       "        [23.149],\n",
       "        [ 6.053],\n",
       "        [11.253],\n",
       "        [40.024],\n",
       "        [24.394],\n",
       "        [19.564],\n",
       "        [23.916],\n",
       "        [42.426],\n",
       "        [24.451],\n",
       "        [19.128],\n",
       "        [ 5.609],\n",
       "        [41.444],\n",
       "        [12.027],\n",
       "        [32.357]]))"
      ]
     },
     "execution_count": 3,
     "metadata": {},
     "output_type": "execute_result"
    }
   ],
   "source": [
    "x, y"
   ]
  },
  {
   "cell_type": "code",
   "execution_count": 4,
   "metadata": {},
   "outputs": [],
   "source": [
    "def getRandomWeight(*r):\n",
    "    return np.random.randn(*r)\n",
    "    # return np.zeros(r) + 0.1"
   ]
  },
  {
   "cell_type": "code",
   "execution_count": 5,
   "metadata": {},
   "outputs": [],
   "source": [
    "def forward(x, w, b):\n",
    "    '''\n",
    "    x -> each row is record\n",
    "    w -> each column is each node's weight\n",
    "    '''\n",
    "    return np.dot(x, w) + b"
   ]
  },
  {
   "cell_type": "code",
   "execution_count": 6,
   "metadata": {},
   "outputs": [
    {
     "name": "stdout",
     "output_type": "stream",
     "text": [
      "[[ 6  9 15]\n",
      " [10 15 25]\n",
      " [17 26 44]]\n",
      "[[ 70]\n",
      " [116]\n",
      " [202]]\n"
     ]
    }
   ],
   "source": [
    "# eg\n",
    "x1 = np.array([\n",
    "    [1,2], # 1st record\n",
    "    [2,3], # 2nd record\n",
    "    [4,5]  # 3rd record\n",
    "])\n",
    "\n",
    "w1 = np.array([\n",
    "    [1,2], # 1st node weight\n",
    "    [2,3], # 2nd node weight \n",
    "    [4,5]  # 3rd node weight\n",
    "])\n",
    "\n",
    "b1 = np.array([\n",
    "    [1],\n",
    "    [2],\n",
    "    [3]\n",
    "])\n",
    "\n",
    "l1 = forward(x1, w1.T, b1)\n",
    "print(l1)\n",
    "\n",
    "w2 = np.array([\n",
    "    [1,2,3]\n",
    "])\n",
    "b2 = np.array([1])\n",
    "print(forward(l1, w2.T, b2))"
   ]
  },
  {
   "cell_type": "code",
   "execution_count": 7,
   "metadata": {},
   "outputs": [],
   "source": [
    "def error(y, y_pred):\n",
    "    return y - y_pred"
   ]
  },
  {
   "cell_type": "code",
   "execution_count": 8,
   "metadata": {},
   "outputs": [
    {
     "name": "stdout",
     "output_type": "stream",
     "text": [
      "(3, 2) (3, 1)\n",
      "(1, 3) (1,)\n"
     ]
    }
   ],
   "source": [
    "# ip -> 2 \n",
    "# hidden -> 3\n",
    "# op -> 1\n",
    "# layer -> 2 x 3 x 1\n",
    "\n",
    "ipw = getRandomWeight(3,2)\n",
    "ipb = getRandomWeight(3,1)\n",
    "\n",
    "hw = getRandomWeight(1,3)\n",
    "hb = getRandomWeight(1)\n",
    "print(ipw.shape, ipb.shape)\n",
    "print(hw.shape, hb.shape)"
   ]
  },
  {
   "cell_type": "code",
   "execution_count": 24,
   "metadata": {},
   "outputs": [
    {
     "name": "stdout",
     "output_type": "stream",
     "text": [
      "25.936520326588163\n",
      "25.936520326588163\n",
      "25.936520326588163\n",
      "25.936520326588163\n",
      "25.936520326588163\n",
      "25.936520326588163\n",
      "25.936520326588163\n",
      "25.936520326588163\n",
      "25.936520326588163\n",
      "25.936520326588163\n"
     ]
    }
   ],
   "source": [
    "for i in range(10):\n",
    "    l1_op = forward(x,ipw.T, ipb.T)\n",
    "    y_pred = forward(l1_op, hw.T, hb)\n",
    "    print(error(y,y_pred).mean())"
   ]
  },
  {
   "cell_type": "code",
   "execution_count": 21,
   "metadata": {},
   "outputs": [
    {
     "data": {
      "text/plain": [
       "(array([[-1.2251147 , -1.51682611,  1.13029239],\n",
       "        [-0.76273057,  0.10337021, -0.48097079]]),\n",
       " array([3.   , 4.508]),\n",
       " array([[-0.47490657],\n",
       "        [-0.30143318],\n",
       "        [ 0.30784389]]))"
      ]
     },
     "execution_count": 21,
     "metadata": {},
     "output_type": "execute_result"
    }
   ],
   "source": [
    "#np.dot(ipw.T, x[0])\n",
    "ipw.T, x[0], ipb"
   ]
  },
  {
   "cell_type": "code",
   "execution_count": 22,
   "metadata": {},
   "outputs": [
    {
     "data": {
      "text/plain": [
       "array([[-7.58864005, -4.38591861,  1.53050473]])"
      ]
     },
     "execution_count": 22,
     "metadata": {},
     "output_type": "execute_result"
    }
   ],
   "source": [
    "np.dot(x[0],ipw.T) + ipb.T"
   ]
  }
 ],
 "metadata": {
  "kernelspec": {
   "display_name": "Python 3",
   "language": "python",
   "name": "python3"
  },
  "language_info": {
   "codemirror_mode": {
    "name": "ipython",
    "version": 3
   },
   "file_extension": ".py",
   "mimetype": "text/x-python",
   "name": "python",
   "nbconvert_exporter": "python",
   "pygments_lexer": "ipython3",
   "version": "3.10.9"
  },
  "orig_nbformat": 4,
  "vscode": {
   "interpreter": {
    "hash": "916dbcbb3f70747c44a77c7bcd40155683ae19c65e1c03b4aa3499c5328201f1"
   }
  }
 },
 "nbformat": 4,
 "nbformat_minor": 2
}
