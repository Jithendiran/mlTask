{
 "cells": [
  {
   "cell_type": "code",
   "execution_count": 45,
   "metadata": {},
   "outputs": [],
   "source": [
    "import numpy as np\n",
    "import pandas as pd"
   ]
  },
  {
   "cell_type": "code",
   "execution_count": 46,
   "metadata": {},
   "outputs": [],
   "source": [
    "def oneHot(Y):\n",
    "    one_hot_Y = np.zeros((Y.size, Y.max() + 1))\n",
    "    one_hot_Y[np.arange(Y.size), Y] = 1\n",
    "    one_hot_Y = one_hot_Y.T\n",
    "    return one_hot_Y"
   ]
  },
  {
   "cell_type": "code",
   "execution_count": 47,
   "metadata": {},
   "outputs": [],
   "source": [
    "def getData():\n",
    "    '''\n",
    "    MNIST data set \n",
    "    x has 784 feature\n",
    "    y is op value from 0 to 9 \n",
    "    '''\n",
    "    data = np.array(pd.read_csv('data/MNIST/MNIST_train.csv'))\n",
    "    x = (data[:,1:]/255).T\n",
    "    y = oneHot(data[:,0])\n",
    "    return x,y\n",
    "    "
   ]
  },
  {
   "cell_type": "code",
   "execution_count": 48,
   "metadata": {},
   "outputs": [],
   "source": [
    "class Activation:\n",
    "    @staticmethod\n",
    "    def ReLU(Z, isDerivation=False):\n",
    "        if isDerivation:\n",
    "            return Z > 0\n",
    "        return np.maximum(Z, 0)\n",
    "\n",
    "    @staticmethod\n",
    "    def sigmoid(Z, isDerivation=False):\n",
    "        if isDerivation:\n",
    "            op = Activation.sigmoid(Z)\n",
    "            return op * (1- op)\n",
    "        return 1/(1 + np.exp(-Z))\n",
    "\n",
    "    @staticmethod\n",
    "    def softmax(Z,isDerivation=False):\n",
    "        if isDerivation:\n",
    "            return 1\n",
    "        Z = Z - np.max(Z, axis=0)\n",
    "        A = np.exp(Z) / sum(np.exp(Z))\n",
    "        return A"
   ]
  },
  {
   "cell_type": "code",
   "execution_count": 49,
   "metadata": {},
   "outputs": [],
   "source": [
    "class Accuracy:\n",
    "    @staticmethod\n",
    "    def multiClass(target, prediction):\n",
    "        return np.argmax(target, axis=0) == np.argmax(prediction, axis=0)"
   ]
  },
  {
   "cell_type": "code",
   "execution_count": 50,
   "metadata": {},
   "outputs": [],
   "source": [
    "class Error:\n",
    "    @staticmethod\n",
    "    def meanSquareError(target, predicted, isDerivation=False):\n",
    "        if isDerivation:\n",
    "            return 2 * (predicted - target) / np.size(target)\n",
    "        loss = np.power(target - predicted, 2)\n",
    "        accuracy = Accuracy.multiClass(target, predicted)\n",
    "        return {'loss': loss, 'accuracy': accuracy}\n",
    "    \n",
    "    @staticmethod\n",
    "    def crossEntropyLoss(target, predicted,  isDerivation=False):\n",
    "        if isDerivation:\n",
    "            return predicted - target\n",
    "        loss = -target * np.log(predicted + 10 ** -100)\n",
    "        accuracy = Accuracy.multiClass(target,predicted)\n",
    "        return {'loss': loss, 'accuracy': accuracy}\n",
    "    \n",
    "    @staticmethod\n",
    "    def hiddenError(target, predicted):\n",
    "        return target.T.dot(predicted)"
   ]
  },
  {
   "cell_type": "code",
   "execution_count": 51,
   "metadata": {},
   "outputs": [],
   "source": [
    "class DenseLayer:\n",
    "    op = []\n",
    "    bias = []\n",
    "    weight = []\n",
    "    output = []\n",
    "    isInput=False\n",
    "    noOfNodes = 0\n",
    "    activation = None\n",
    "    def __init__(self, inputSize=0, outputSize=0, activation=None,isInput=False,input=[]):\n",
    "        '''\n",
    "        inputSize -> no.of.input feature \n",
    "        outputSize -> no.of.output\n",
    "        '''\n",
    "        if isInput:\n",
    "            self.output = input\n",
    "            self.isInput = True\n",
    "            self.noOfNodes = input.shape[0]\n",
    "        else :\n",
    "            self.noOfNodes = inputSize\n",
    "            self.activation = activation\n",
    "            self.weight = self.generateWeight(inputSize, outputSize)\n",
    "            self.bias = self.generateWeight(inputSize,1)\n",
    "\n",
    "    def generateWeight(self,*r):\n",
    "        '''\n",
    "        Receive input as set that define the set shape\n",
    "        '''\n",
    "        return np.random.randn(*r) - 0.5"
   ]
  },
  {
   "cell_type": "code",
   "execution_count": 52,
   "metadata": {},
   "outputs": [],
   "source": [
    "class NeuralNetwork:\n",
    "    input = []\n",
    "    target = []\n",
    "    layers = []\n",
    "    history = {'loss': [], 'accuracy':[]}\n",
    "    loss = None\n",
    "\n",
    "    def __init__(self, input, target, loss):\n",
    "        self.loss = loss\n",
    "        self.input = input\n",
    "        self.target = target\n",
    "        self.layers.append(DenseLayer(None,None,None,isInput=True, input=self.input))\n",
    "\n",
    "    def append(self, node, activationFunction):\n",
    "        preNode = self.layers[len(self.layers) -1]\n",
    "        self.layers.append(DenseLayer(inputSize=node,outputSize=preNode.noOfNodes, activation=activationFunction))\n",
    "\n",
    "    def train(self, epoch=100, lr=0.01):\n",
    "        for i in range(epoch):\n",
    "            for j in range(len(self.layers)):\n",
    "                if not self.layers[j].isInput:\n",
    "                    self.layers[j].output = self.forWord(self.layers[j], self.layers[j-1].output)\n",
    "                if j == len(self.layers)-1 :\n",
    "                    loss = self.loss(self.target,self.layers[j].output)\n",
    "                    self.history['loss'].append(np.mean(loss['loss']))\n",
    "                    self.history['accuracy'].append(np.mean(loss['accuracy']))\n",
    "                    # index = len(self.history['loss']) -1\n",
    "                    print(f\"Epoch: {i+1} Loss: {self.history['loss'][-1]} Accuracy: {self.history['accuracy'][-1]}\")\n",
    "                    # calculate loss\n",
    "                    self.backPropogation(loss['loss'],lr)\n",
    "\n",
    "    def forWord(self, layer, input):\n",
    "        layer.op = np.dot(layer.weight, input) + layer.bias\n",
    "        return layer.activation(layer.op)\n",
    "\n",
    "    def backPropogation(self, loss,lr):\n",
    "        layer_length = len(self.layers)\n",
    "        for index, layer in enumerate(self.layers[::-1]):\n",
    "            if not layer.isInput:\n",
    "                pervious_node = self.layers[layer_length - index - 2]\n",
    "                oldw = np.copy(layer.weight)\n",
    "                layer.weight, layer.bias = self.gradient(\n",
    "                    layer.weight, layer.bias, pervious_node.output, loss,lr)\n",
    "                loss = Error.hiddenError(oldw, loss)\n",
    "\n",
    "    def gradient(self, w, b, x, err, lr=0.01):\n",
    "        w = w - (1/len(x[0]) * (err.dot(x.T))) * lr\n",
    "        b = b - (lr * np.mean(err, axis=1).reshape(b.shape))\n",
    "        return w,b        "
   ]
  },
  {
   "cell_type": "code",
   "execution_count": 53,
   "metadata": {},
   "outputs": [],
   "source": [
    "x,y = getData()"
   ]
  },
  {
   "cell_type": "code",
   "execution_count": 54,
   "metadata": {},
   "outputs": [
    {
     "name": "stdout",
     "output_type": "stream",
     "text": [
      "Epoch: 1 Loss: 0.29478940370192547 Accuracy: 0.09945238095238096\n",
      "Epoch: 2 Loss: 0.29491318111664233 Accuracy: 0.09945238095238096\n",
      "Epoch: 3 Loss: 0.2950373862164145 Accuracy: 0.09945238095238096\n",
      "Epoch: 4 Loss: 0.29516385512119103 Accuracy: 0.09945238095238096\n",
      "Epoch: 5 Loss: 0.2952929029524713 Accuracy: 0.09945238095238096\n",
      "Epoch: 6 Loss: 0.2954235295969569 Accuracy: 0.09945238095238096\n",
      "Epoch: 7 Loss: 0.2955545478081977 Accuracy: 0.09945238095238096\n",
      "Epoch: 8 Loss: 0.2956875267785697 Accuracy: 0.09945238095238096\n",
      "Epoch: 9 Loss: 0.2958303134367198 Accuracy: 0.09945238095238096\n",
      "Epoch: 10 Loss: 0.29598257494962793 Accuracy: 0.09945238095238096\n",
      "Epoch: 11 Loss: 0.2961474790923365 Accuracy: 0.09945238095238096\n",
      "Epoch: 12 Loss: 0.2963312034787053 Accuracy: 0.09945238095238096\n",
      "Epoch: 13 Loss: 0.2965283425970812 Accuracy: 0.09945238095238096\n",
      "Epoch: 14 Loss: 0.2967468825640848 Accuracy: 0.09942857142857142\n",
      "Epoch: 15 Loss: 0.2969996999411071 Accuracy: 0.09942857142857142\n",
      "Epoch: 16 Loss: 0.2972906325736801 Accuracy: 0.09942857142857142\n",
      "Epoch: 17 Loss: 0.29763162972428786 Accuracy: 0.09935714285714285\n",
      "Epoch: 18 Loss: 0.2980364345147041 Accuracy: 0.0993095238095238\n",
      "Epoch: 19 Loss: 0.2985292418646504 Accuracy: 0.09921428571428571\n",
      "Epoch: 20 Loss: 0.2991075165232992 Accuracy: 0.09919047619047619\n",
      "Epoch: 21 Loss: 0.29981258319340387 Accuracy: 0.0990952380952381\n",
      "Epoch: 22 Loss: 0.3006789211090996 Accuracy: 0.09902380952380953\n",
      "Epoch: 23 Loss: 0.3017486143885432 Accuracy: 0.09885714285714285\n",
      "Epoch: 24 Loss: 0.3030574486371321 Accuracy: 0.09876190476190476\n",
      "Epoch: 25 Loss: 0.30463486995099903 Accuracy: 0.09864285714285714\n",
      "Epoch: 26 Loss: 0.3065364008485879 Accuracy: 0.09833333333333333\n",
      "Epoch: 27 Loss: 0.3088762229652653 Accuracy: 0.09807142857142857\n",
      "Epoch: 28 Loss: 0.3117756492525381 Accuracy: 0.09769047619047619\n",
      "Epoch: 29 Loss: 0.3153568048621492 Accuracy: 0.09726190476190476\n",
      "Epoch: 30 Loss: 0.3198095282387298 Accuracy: 0.09685714285714286\n",
      "Epoch: 31 Loss: 0.3254232369234497 Accuracy: 0.09616666666666666\n",
      "Epoch: 32 Loss: 0.332556508803146 Accuracy: 0.09552380952380952\n",
      "Epoch: 33 Loss: 0.3416463014073089 Accuracy: 0.09457142857142857\n",
      "Epoch: 34 Loss: 0.35326985829188945 Accuracy: 0.09371428571428571\n",
      "Epoch: 35 Loss: 0.3681339232154299 Accuracy: 0.09280952380952381\n",
      "Epoch: 36 Loss: 0.3876605321762033 Accuracy: 0.09114285714285714\n",
      "Epoch: 37 Loss: 0.413799148417962 Accuracy: 0.08921428571428572\n",
      "Epoch: 38 Loss: 0.4495638380337875 Accuracy: 0.08704761904761905\n",
      "Epoch: 39 Loss: 0.5003899447850251 Accuracy: 0.08461904761904762\n",
      "Epoch: 40 Loss: 0.5765451691221684 Accuracy: 0.0815952380952381\n",
      "Epoch: 41 Loss: 0.7001848432542438 Accuracy: 0.07735714285714286\n",
      "Epoch: 42 Loss: 0.9242004023931724 Accuracy: 0.06992857142857142\n",
      "Epoch: 43 Loss: 1.404171019693656 Accuracy: 0.059904761904761905\n",
      "Epoch: 44 Loss: 2.7781143288049153 Accuracy: 0.048857142857142856\n",
      "Epoch: 45 Loss: 7.67589686249663 Accuracy: 0.07202380952380952\n",
      "Epoch: 46 Loss: 19.933137926355673 Accuracy: 0.09838095238095237\n",
      "Epoch: 47 Loss: 20.760545786071074 Accuracy: 0.09838095238095237\n",
      "Epoch: 48 Loss: 20.760545786071074 Accuracy: 0.09838095238095237\n",
      "Epoch: 49 Loss: 20.760545786071074 Accuracy: 0.09838095238095237\n",
      "Epoch: 50 Loss: 20.760545786071074 Accuracy: 0.09838095238095237\n",
      "Epoch: 51 Loss: 20.760545786071074 Accuracy: 0.09838095238095237\n",
      "Epoch: 52 Loss: 20.760545786071074 Accuracy: 0.09838095238095237\n",
      "Epoch: 53 Loss: 20.760545786071074 Accuracy: 0.09838095238095237\n",
      "Epoch: 54 Loss: 20.760545786071074 Accuracy: 0.09838095238095237\n",
      "Epoch: 55 Loss: 20.760545786071074 Accuracy: 0.09838095238095237\n",
      "Epoch: 56 Loss: 20.760545786071074 Accuracy: 0.09838095238095237\n",
      "Epoch: 57 Loss: 20.760545786071074 Accuracy: 0.09838095238095237\n",
      "Epoch: 58 Loss: 20.760545786071074 Accuracy: 0.09838095238095237\n",
      "Epoch: 59 Loss: 20.760545786071074 Accuracy: 0.09838095238095237\n",
      "Epoch: 60 Loss: 20.760545786071074 Accuracy: 0.09838095238095237\n",
      "Epoch: 61 Loss: 20.760545786071074 Accuracy: 0.09838095238095237\n",
      "Epoch: 62 Loss: 20.760545786071074 Accuracy: 0.09838095238095237\n",
      "Epoch: 63 Loss: 20.760545786071074 Accuracy: 0.09838095238095237\n",
      "Epoch: 64 Loss: 20.760545786071074 Accuracy: 0.09838095238095237\n",
      "Epoch: 65 Loss: 20.760545786071074 Accuracy: 0.09838095238095237\n",
      "Epoch: 66 Loss: 20.760545786071074 Accuracy: 0.09838095238095237\n",
      "Epoch: 67 Loss: 20.760545786071074 Accuracy: 0.09838095238095237\n",
      "Epoch: 68 Loss: 20.760545786071074 Accuracy: 0.09838095238095237\n",
      "Epoch: 69 Loss: 20.760545786071074 Accuracy: 0.09838095238095237\n",
      "Epoch: 70 Loss: 20.760545786071074 Accuracy: 0.09838095238095237\n",
      "Epoch: 71 Loss: 20.760545786071074 Accuracy: 0.09838095238095237\n",
      "Epoch: 72 Loss: 20.760545786071074 Accuracy: 0.09838095238095237\n",
      "Epoch: 73 Loss: 20.760545786071074 Accuracy: 0.09838095238095237\n",
      "Epoch: 74 Loss: 20.760545786071074 Accuracy: 0.09838095238095237\n",
      "Epoch: 75 Loss: 20.760545786071074 Accuracy: 0.09838095238095237\n",
      "Epoch: 76 Loss: 20.760545786071074 Accuracy: 0.09838095238095237\n",
      "Epoch: 77 Loss: 20.760545786071074 Accuracy: 0.09838095238095237\n",
      "Epoch: 78 Loss: 20.760545786071074 Accuracy: 0.09838095238095237\n",
      "Epoch: 79 Loss: 20.760545786071074 Accuracy: 0.09838095238095237\n",
      "Epoch: 80 Loss: 20.760545786071074 Accuracy: 0.09838095238095237\n",
      "Epoch: 81 Loss: 20.760545786071074 Accuracy: 0.09838095238095237\n",
      "Epoch: 82 Loss: 20.760545786071074 Accuracy: 0.09838095238095237\n",
      "Epoch: 83 Loss: 20.760545786071074 Accuracy: 0.09838095238095237\n",
      "Epoch: 84 Loss: 20.760545786071074 Accuracy: 0.09838095238095237\n",
      "Epoch: 85 Loss: 20.760545786071074 Accuracy: 0.09838095238095237\n",
      "Epoch: 86 Loss: 20.760545786071074 Accuracy: 0.09838095238095237\n",
      "Epoch: 87 Loss: 20.760545786071074 Accuracy: 0.09838095238095237\n",
      "Epoch: 88 Loss: 20.760545786071074 Accuracy: 0.09838095238095237\n",
      "Epoch: 89 Loss: 20.760545786071074 Accuracy: 0.09838095238095237\n",
      "Epoch: 90 Loss: 20.760545786071074 Accuracy: 0.09838095238095237\n",
      "Epoch: 91 Loss: 20.760545786071074 Accuracy: 0.09838095238095237\n",
      "Epoch: 92 Loss: 20.760545786071074 Accuracy: 0.09838095238095237\n",
      "Epoch: 93 Loss: 20.760545786071074 Accuracy: 0.09838095238095237\n",
      "Epoch: 94 Loss: 20.760545786071074 Accuracy: 0.09838095238095237\n",
      "Epoch: 95 Loss: 20.760545786071074 Accuracy: 0.09838095238095237\n",
      "Epoch: 96 Loss: 20.760545786071074 Accuracy: 0.09838095238095237\n",
      "Epoch: 97 Loss: 20.760545786071074 Accuracy: 0.09838095238095237\n",
      "Epoch: 98 Loss: 20.760545786071074 Accuracy: 0.09838095238095237\n",
      "Epoch: 99 Loss: 20.760545786071074 Accuracy: 0.09838095238095237\n",
      "Epoch: 100 Loss: 20.760545786071074 Accuracy: 0.09838095238095237\n"
     ]
    }
   ],
   "source": [
    "model = None\n",
    "model = NeuralNetwork(np.copy(x),np.copy(y),Error.crossEntropyLoss)\n",
    "\n",
    "model.append(10, Activation.ReLU)\n",
    "model.append(10,Activation.softmax)\n",
    "model.train(100)"
   ]
  },
  {
   "cell_type": "code",
   "execution_count": 55,
   "metadata": {},
   "outputs": [
    {
     "name": "stdout",
     "output_type": "stream",
     "text": [
      "Epoch: 1 Loss: 0.11676525320290639 Accuracy: 0.09838095238095237\n"
     ]
    },
    {
     "ename": "ValueError",
     "evalue": "operands could not be broadcast together with shapes (10,10) (784,10) ",
     "output_type": "error",
     "traceback": [
      "\u001b[0;31m---------------------------------------------------------------------------\u001b[0m",
      "\u001b[0;31mValueError\u001b[0m                                Traceback (most recent call last)",
      "Cell \u001b[0;32mIn[55], line 5\u001b[0m\n\u001b[1;32m      3\u001b[0m model1\u001b[39m.\u001b[39mappend(\u001b[39m10\u001b[39m, Activation\u001b[39m.\u001b[39mReLU)\n\u001b[1;32m      4\u001b[0m model1\u001b[39m.\u001b[39mappend(\u001b[39m10\u001b[39m,Activation\u001b[39m.\u001b[39msoftmax)\n\u001b[0;32m----> 5\u001b[0m model1\u001b[39m.\u001b[39;49mtrain(\u001b[39m10\u001b[39;49m, \u001b[39m0.1\u001b[39;49m)\n",
      "Cell \u001b[0;32mIn[52], line 30\u001b[0m, in \u001b[0;36mNeuralNetwork.train\u001b[0;34m(self, epoch, lr)\u001b[0m\n\u001b[1;32m     28\u001b[0m \u001b[39mprint\u001b[39m(\u001b[39mf\u001b[39m\u001b[39m\"\u001b[39m\u001b[39mEpoch: \u001b[39m\u001b[39m{\u001b[39;00mi\u001b[39m+\u001b[39m\u001b[39m1\u001b[39m\u001b[39m}\u001b[39;00m\u001b[39m Loss: \u001b[39m\u001b[39m{\u001b[39;00m\u001b[39mself\u001b[39m\u001b[39m.\u001b[39mhistory[\u001b[39m'\u001b[39m\u001b[39mloss\u001b[39m\u001b[39m'\u001b[39m][\u001b[39m-\u001b[39m\u001b[39m1\u001b[39m]\u001b[39m}\u001b[39;00m\u001b[39m Accuracy: \u001b[39m\u001b[39m{\u001b[39;00m\u001b[39mself\u001b[39m\u001b[39m.\u001b[39mhistory[\u001b[39m'\u001b[39m\u001b[39maccuracy\u001b[39m\u001b[39m'\u001b[39m][\u001b[39m-\u001b[39m\u001b[39m1\u001b[39m]\u001b[39m}\u001b[39;00m\u001b[39m\"\u001b[39m)\n\u001b[1;32m     29\u001b[0m \u001b[39m# calculate loss\u001b[39;00m\n\u001b[0;32m---> 30\u001b[0m \u001b[39mself\u001b[39;49m\u001b[39m.\u001b[39;49mbackPropogation(loss[\u001b[39m'\u001b[39;49m\u001b[39mloss\u001b[39;49m\u001b[39m'\u001b[39;49m],lr)\n",
      "Cell \u001b[0;32mIn[52], line 42\u001b[0m, in \u001b[0;36mNeuralNetwork.backPropogation\u001b[0;34m(self, loss, lr)\u001b[0m\n\u001b[1;32m     40\u001b[0m pervious_node \u001b[39m=\u001b[39m \u001b[39mself\u001b[39m\u001b[39m.\u001b[39mlayers[layer_length \u001b[39m-\u001b[39m index \u001b[39m-\u001b[39m \u001b[39m2\u001b[39m]\n\u001b[1;32m     41\u001b[0m oldw \u001b[39m=\u001b[39m np\u001b[39m.\u001b[39mcopy(layer\u001b[39m.\u001b[39mweight)\n\u001b[0;32m---> 42\u001b[0m layer\u001b[39m.\u001b[39mweight, layer\u001b[39m.\u001b[39mbias \u001b[39m=\u001b[39m \u001b[39mself\u001b[39;49m\u001b[39m.\u001b[39;49mgradient(\n\u001b[1;32m     43\u001b[0m     layer\u001b[39m.\u001b[39;49mweight, layer\u001b[39m.\u001b[39;49mbias, pervious_node\u001b[39m.\u001b[39;49moutput, loss,lr)\n\u001b[1;32m     44\u001b[0m loss \u001b[39m=\u001b[39m Error\u001b[39m.\u001b[39mhiddenError(oldw, loss)\n",
      "Cell \u001b[0;32mIn[52], line 47\u001b[0m, in \u001b[0;36mNeuralNetwork.gradient\u001b[0;34m(self, w, b, x, err, lr)\u001b[0m\n\u001b[1;32m     46\u001b[0m \u001b[39mdef\u001b[39;00m \u001b[39mgradient\u001b[39m(\u001b[39mself\u001b[39m, w, b, x, err, lr\u001b[39m=\u001b[39m\u001b[39m0.01\u001b[39m):\n\u001b[0;32m---> 47\u001b[0m     w \u001b[39m=\u001b[39m w \u001b[39m-\u001b[39;49m (\u001b[39m1\u001b[39;49m\u001b[39m/\u001b[39;49m\u001b[39mlen\u001b[39;49m(x[\u001b[39m0\u001b[39;49m]) \u001b[39m*\u001b[39;49m (err\u001b[39m.\u001b[39;49mdot(x\u001b[39m.\u001b[39;49mT))) \u001b[39m*\u001b[39;49m lr\n\u001b[1;32m     48\u001b[0m     b \u001b[39m=\u001b[39m b \u001b[39m-\u001b[39m (lr \u001b[39m*\u001b[39m np\u001b[39m.\u001b[39mmean(err, axis\u001b[39m=\u001b[39m\u001b[39m1\u001b[39m)\u001b[39m.\u001b[39mreshape(b\u001b[39m.\u001b[39mshape))\n\u001b[1;32m     49\u001b[0m     \u001b[39mreturn\u001b[39;00m w,b\n",
      "\u001b[0;31mValueError\u001b[0m: operands could not be broadcast together with shapes (10,10) (784,10) "
     ]
    }
   ],
   "source": [
    "model1 = NeuralNetwork(np.copy(x),np.copy(y),Error.meanSquareError)\n",
    "\n",
    "model1.append(10, Activation.ReLU)\n",
    "model1.append(10,Activation.softmax)\n",
    "model1.train(10, 0.1)"
   ]
  },
  {
   "attachments": {},
   "cell_type": "markdown",
   "metadata": {},
   "source": [
    "# Debug"
   ]
  },
  {
   "cell_type": "code",
   "execution_count": 56,
   "metadata": {},
   "outputs": [],
   "source": [
    "def generateWeight(*r):\n",
    "    '''\n",
    "    Receive input as set that define the set shape\n",
    "    '''\n",
    "    return np.random.randn(*r) - 0.5"
   ]
  },
  {
   "cell_type": "code",
   "execution_count": 57,
   "metadata": {},
   "outputs": [],
   "source": [
    "hw = generateWeight(10,784)\n",
    "hb = generateWeight(10,1)\n",
    "\n",
    "ow = generateWeight(10,10)\n",
    "ob = generateWeight(10,1)"
   ]
  },
  {
   "cell_type": "code",
   "execution_count": 58,
   "metadata": {},
   "outputs": [],
   "source": [
    "def forWord(x,w,b):\n",
    "    return np.dot(w, x) + b\n",
    "\n",
    "def backWord(err, w,b, x,lr = 0.01):\n",
    "    m = 1/len(x[0])\n",
    "    w = w - (m * (err.dot(x.T))) * lr\n",
    "    b = b - (m * np.sum(err)) * lr\n",
    "    # b = b - (lr * np.mean(err, axis=1).reshape(b.shape))\n",
    "    return w, b"
   ]
  },
  {
   "cell_type": "code",
   "execution_count": 60,
   "metadata": {},
   "outputs": [
    {
     "name": "stdout",
     "output_type": "stream",
     "text": [
      "Epoch : 1, Loss : 0.29245212766522855, Accuracy : 0.09035714285714286\n",
      "Epoch : 2, Loss : 0.2924522499608775, Accuracy : 0.09035714285714286\n",
      "Epoch : 3, Loss : 0.29245237401354474, Accuracy : 0.09035714285714286\n",
      "Epoch : 4, Loss : 0.29245249980705285, Accuracy : 0.09035714285714286\n",
      "Epoch : 5, Loss : 0.2924526273244784, Accuracy : 0.09035714285714286\n",
      "Epoch : 6, Loss : 0.2924527565481789, Accuracy : 0.09035714285714286\n",
      "Epoch : 7, Loss : 0.2924528874598211, Accuracy : 0.09035714285714286\n",
      "Epoch : 8, Loss : 0.2924530200404109, Accuracy : 0.09035714285714286\n",
      "Epoch : 9, Loss : 0.29245315427032387, Accuracy : 0.09035714285714286\n",
      "Epoch : 10, Loss : 0.2924532901293381, Accuracy : 0.09035714285714286\n",
      "Epoch : 11, Loss : 0.29245342759666676, Accuracy : 0.09035714285714286\n",
      "Epoch : 12, Loss : 0.29245356665099254, Accuracy : 0.09035714285714286\n",
      "Epoch : 13, Loss : 0.29245370727050224, Accuracy : 0.09035714285714286\n",
      "Epoch : 14, Loss : 0.2924538494329219, Accuracy : 0.09035714285714286\n",
      "Epoch : 15, Loss : 0.29245399311555287, Accuracy : 0.09035714285714286\n",
      "Epoch : 16, Loss : 0.29245413829530764, Accuracy : 0.09035714285714286\n",
      "Epoch : 17, Loss : 0.29245428494874565, Accuracy : 0.09035714285714286\n",
      "Epoch : 18, Loss : 0.29245443305211005, Accuracy : 0.09035714285714286\n",
      "Epoch : 19, Loss : 0.2924545825813629, Accuracy : 0.09035714285714286\n",
      "Epoch : 20, Loss : 0.29245473351222145, Accuracy : 0.09035714285714286\n",
      "Epoch : 21, Loss : 0.2924548858201931, Accuracy : 0.09035714285714286\n",
      "Epoch : 22, Loss : 0.2924550394806098, Accuracy : 0.09035714285714286\n",
      "Epoch : 23, Loss : 0.2924551944686628, Accuracy : 0.09035714285714286\n",
      "Epoch : 24, Loss : 0.29245535075943563, Accuracy : 0.09035714285714286\n",
      "Epoch : 25, Loss : 0.2924555083279364, Accuracy : 0.09035714285714286\n",
      "Epoch : 26, Loss : 0.2924556671491295, Accuracy : 0.09035714285714286\n",
      "Epoch : 27, Loss : 0.29245582719796653, Accuracy : 0.09035714285714286\n",
      "Epoch : 28, Loss : 0.29245598844941517, Accuracy : 0.09035714285714286\n",
      "Epoch : 29, Loss : 0.2924561508784879, Accuracy : 0.09035714285714286\n",
      "Epoch : 30, Loss : 0.2924563144602691, Accuracy : 0.09035714285714286\n",
      "Epoch : 31, Loss : 0.2924564791699411, Accuracy : 0.09035714285714286\n",
      "Epoch : 32, Loss : 0.2924566449828087, Accuracy : 0.09035714285714286\n",
      "Epoch : 33, Loss : 0.2924568118743225, Accuracy : 0.09035714285714286\n",
      "Epoch : 34, Loss : 0.29245697982010127, Accuracy : 0.09035714285714286\n",
      "Epoch : 35, Loss : 0.29245714879595264, Accuracy : 0.09035714285714286\n",
      "Epoch : 36, Loss : 0.29245731877789244, Accuracy : 0.09035714285714286\n",
      "Epoch : 37, Loss : 0.2924574897421631, Accuracy : 0.09035714285714286\n",
      "Epoch : 38, Loss : 0.2924576616652502, Accuracy : 0.09035714285714286\n",
      "Epoch : 39, Loss : 0.29245783452389834, Accuracy : 0.09035714285714286\n",
      "Epoch : 40, Loss : 0.29245800829512536, Accuracy : 0.09035714285714286\n",
      "Epoch : 41, Loss : 0.29245818295623516, Accuracy : 0.09035714285714286\n",
      "Epoch : 42, Loss : 0.29245835848482993, Accuracy : 0.09035714285714286\n",
      "Epoch : 43, Loss : 0.29245853485882056, Accuracy : 0.09035714285714286\n",
      "Epoch : 44, Loss : 0.29245871205643625, Accuracy : 0.09035714285714286\n",
      "Epoch : 45, Loss : 0.2924588900562329, Accuracy : 0.09035714285714286\n",
      "Epoch : 46, Loss : 0.2924590688371005, Accuracy : 0.09035714285714286\n",
      "Epoch : 47, Loss : 0.29245924837826925, Accuracy : 0.09035714285714286\n",
      "Epoch : 48, Loss : 0.29245942865931535, Accuracy : 0.09035714285714286\n",
      "Epoch : 49, Loss : 0.29245960966016477, Accuracy : 0.09035714285714286\n",
      "Epoch : 50, Loss : 0.2924597913610974, Accuracy : 0.09035714285714286\n"
     ]
    }
   ],
   "source": [
    "for i in range(50):\n",
    "    \n",
    "    #forword\n",
    "    #Hidden\n",
    "    # hid_op = forWord(x,hw,hb)\n",
    "    hid_op = hw.dot(x)+hb\n",
    "    hid_act = Activation.ReLU(hid_op)\n",
    "\n",
    "    #op layer\n",
    "    op = ow.dot(hid_act)+ob\n",
    "    # op = forWord(hid_act,ow,ob)\n",
    "    y_pred = Activation.softmax(op)\n",
    "\n",
    "    #backword\n",
    "    #output error\n",
    "    op_err = y_pred - y\n",
    "    # ow,ob = backWord(op_err, ow, ob, hid_act)\n",
    "    ow = ow - (1/len(x[0]) * op_err.dot(hid_op.T)) * 0.01\n",
    "    ob = ob - (1/len(x[0]) * np.sum(op_err)) * 0.01\n",
    "\n",
    "    # #hidden error\n",
    "    hid_err = Error.hiddenError(ow,op_err) * Activation.ReLU(hid_op,True)\n",
    "    # hw,hb = backWord(hid_err, hw, hb, x)\n",
    "    hw = hw - (1/len(x[0]) * hid_err.dot(x.T)) * 0.01\n",
    "    hb = hb - (1/len(x[0]) * np.sum(hid_err)) * 0.01\n",
    "\n",
    "    loss = Error.crossEntropyLoss(y, y_pred)\n",
    "    print(f\"Epoch : {i + 1}, Loss : {np.mean(loss['loss'])}, Accuracy : {np.mean(loss['accuracy'])}\")"
   ]
  },
  {
   "cell_type": "code",
   "execution_count": null,
   "metadata": {},
   "outputs": [
    {
     "data": {
      "text/plain": [
       "(array([3, 3, 3, ..., 3, 3, 3]), (42000,))"
      ]
     },
     "execution_count": 33,
     "metadata": {},
     "output_type": "execute_result"
    }
   ],
   "source": [
    "np.argmax(y_pred,0), np.argmax(y_pred,0).shape"
   ]
  },
  {
   "cell_type": "code",
   "execution_count": null,
   "metadata": {},
   "outputs": [
    {
     "data": {
      "text/plain": [
       "(array([1, 0, 1, ..., 7, 6, 9]), (42000,))"
      ]
     },
     "execution_count": 34,
     "metadata": {},
     "output_type": "execute_result"
    }
   ],
   "source": [
    "np.argmax(y,0), np.argmax(y,0).shape"
   ]
  },
  {
   "cell_type": "code",
   "execution_count": null,
   "metadata": {},
   "outputs": [
    {
     "data": {
      "text/plain": [
       "42000"
      ]
     },
     "execution_count": 43,
     "metadata": {},
     "output_type": "execute_result"
    }
   ],
   "source": [
    "len(x[0])"
   ]
  }
 ],
 "metadata": {
  "kernelspec": {
   "display_name": "Python 3",
   "language": "python",
   "name": "python3"
  },
  "language_info": {
   "codemirror_mode": {
    "name": "ipython",
    "version": 3
   },
   "file_extension": ".py",
   "mimetype": "text/x-python",
   "name": "python",
   "nbconvert_exporter": "python",
   "pygments_lexer": "ipython3",
   "version": "3.11.1"
  },
  "orig_nbformat": 4,
  "vscode": {
   "interpreter": {
    "hash": "916dbcbb3f70747c44a77c7bcd40155683ae19c65e1c03b4aa3499c5328201f1"
   }
  }
 },
 "nbformat": 4,
 "nbformat_minor": 2
}
